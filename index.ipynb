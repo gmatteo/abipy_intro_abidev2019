{
 "cells": [
  {
   "cell_type": "code",
   "execution_count": 1,
   "metadata": {
    "slideshow": {
     "slide_type": "skip"
    }
   },
   "outputs": [],
   "source": [
    "import os\n",
    "\n",
    "# Ignore numpy warnings\n",
    "import warnings\n",
    "warnings.filterwarnings('ignore')\n",
    "\n",
    "%matplotlib inline\n",
    "#%matplotlib notebook\n",
    "\n",
    "# Use seaborn settings.\n",
    "import seaborn as sns\n",
    "sns.set(\n",
    "        #context=\"paper\",\n",
    "        context=\"talk\",\n",
    "        #context=\"poster\",\n",
    "        style='darkgrid',\n",
    "        #style=\"dark\",\n",
    "        #palette='deep',\n",
    "        font='sans-serif', \n",
    "        #font_scale=1.0, \n",
    "        #color_codes=False, \n",
    "        #rc={'figure.figsize': (12, 8.0)}, # width and height in inches.\n",
    "        rc={'figure.figsize': (12, 12.0)}, # width and height in inches.\n",
    ")\n",
    "\n",
    "import IPython\n",
    "\n",
    "def _embed(src, width=\"800\", height=\"400\"):\n",
    "    return IPython.display.IFrame(src=src, width=str(width), height=str(height))\n",
    "\n",
    "from IPython.core.magic import (register_line_magic, register_cell_magic,\n",
    "                                register_line_cell_magic)\n",
    "\n",
    "@register_line_magic\n",
    "def embed(line):\n",
    "    \"my line magic\"\n",
    "    #return line\n",
    "    return _embed(line)\n",
    "\n",
    "# We delete these to avoid name conflicts for automagic to work\n",
    "del embed\n",
    "#del lcmagic\n",
    "\n",
    "# Theme\n",
    "# import jtplot module in notebook\n",
    "#from jupyterthemes import jtplot\n",
    "\n",
    "# choose which theme to inherit plotting style from\n",
    "# onedork | grade3 | oceans16 | chesterish | monokai | solarizedl | solarizedd\n",
    "#jtplot.style(theme='monokai')\n",
    "\n",
    "# set \"context\" (paper, notebook, talk, poster)\n",
    "# scale font-size of ticklabels, legend, etc.\n",
    "# remove spines from x and y axes and make grid dashed\n",
    "#jtplot.style(context='talk', fscale=1.4, spines=False, gridlines='--')\n",
    "\n",
    "# turn on X- and Y-axis tick marks (default=False)\n",
    "# turn off the axis grid lines (default=True)\n",
    "# and set the default figure size\n",
    "#jtplot.style(ticks=True, grid=False, figsize=(6, 4.5))\n",
    "\n",
    "# reset default matplotlib rcParams\n",
    "#jtplot.reset()\n",
    "\n",
    "from abipy import abilab\n",
    "import abipy.data as abidata\n",
    "\n",
    "si_pseudo = os.path.join(abidata.pseudo_dir, \"14si.pspnc\")"
   ]
  },
  {
   "cell_type": "markdown",
   "metadata": {
    "slideshow": {
     "slide_type": "slide"
    }
   },
   "source": [
    "# New features of AbiPy v0.7\n",
    "\n",
    "### M. Giantomassi and the AbiPy group\n",
    "\n",
    "9th international ABINIT developer workshop<br> \n",
    "<small>20-22nd May 2019 - Louvain-la-Neuve, Belgium</small>\n",
    "\n",
    "<!-- link rel=\"stylesheet\" href=\"reveal.js/css/theme/sky.css\" id=\"theme\" -->\n",
    "<img src=\"./assets/intro_logos.png\" width=\"85%\" heigh=\"15%\" align=\"center\">\n",
    "<hr> \n",
    "\n",
    "* These slides have been generated using [jupyter](https://jupyter.org), [nbconvert](https://github.com/jupyter/nbconvert) and [revealjs](https://revealjs.com/)\n",
    "* The notebook can be downloaded from this [github repo](https://github.com/gmatteo/abipy_intro_abidev2019)\n",
    "* To install and configure the software, follow these [installation instructions](https://github.com/abinit/abipy#getting-abipy)\n",
    "\n",
    "Use the Space key to navigate through all slides."
   ]
  },
  {
   "cell_type": "markdown",
   "metadata": {
    "slideshow": {
     "slide_type": "slide"
    }
   },
   "source": [
    "<img src=\"./assets/abipy_logo.jpg\" width=\"55%\" align=\"center\">\n",
    "\n",
    "## What is AbiPy?\n",
    "\n",
    "#### Python package for:\n",
    "\n",
    "   * Generating ABINIT input files automatically\n",
    "   * Post-processing output results (*netcdf* and *text* files)\n",
    "   * Interfacing ABINIT with external tools (e.g. [Vesta](http://jp-minerals.org/vesta/en/))\n",
    "   * Creating and executing workflows (band structures, phonons, $GW$…)\n",
    "   * High-throughput applications ([abiflows](https://github.com/abinit/abiflows), [fireworks](https://github.com/materialsproject/fireworks), [mongodb](https://www.mongodb.com/)\n",
    "   \n",
    "<!--\n",
    "#### Project:\n",
    "\n",
    "* Developed and maintained by the ABINIT community\n",
    "* Used by developers to validate, profile and optimize ABINIT\n",
    "* Hosted on [github](https://github.com/abinit/abipy) \n",
    "* Release under the GPLv2 license\n",
    "\n",
    "#### Layered structure designed for different use-cases:\n",
    "\n",
    "* Extend the pymatgen code-base with ABINIT-specific objects\n",
    "* Post-processing tools and command-line interfaces\n",
    "* API to automate calculations and data analysis\n",
    ")\n",
    "-->\n",
    "\n",
    "#### Why python?\n",
    "\n",
    "   * Easy to use and to learn\n",
    "   * Great support for science ([numpy](http://www.numpy.org/), [scipy](https://www.scipy.org/), [pandas](http://pandas.pydata.org/), [matplotlib](https://matplotlib.org/) …)\n",
    "   * Interactive environments ([ipython](http://ipython.org/), [jupyter notebooks](https://jupyter.org/), GUIs)\n",
    "   * More powerful and flexible than Fortran for implementing the high-level logic needed in modern ab-initio workflows\n",
    "   * [pymatgen](https://github.com/materialsproject) ecosystem and the [materials project database](https://www.materialsproject.org/)…\n"
   ]
  },
  {
   "cell_type": "markdown",
   "metadata": {
    "slideshow": {
     "slide_type": "skip"
    }
   },
   "source": [
    "## Why python?\n",
    "\n",
    "   * Easy to use and to learn\n",
    "   * Great support for science ([numpy](http://www.numpy.org/), [scipy](https://www.scipy.org/), [pandas](http://pandas.pydata.org/), [matplotlib](https://matplotlib.org/) …)\n",
    "   * Interactive environments ([ipython](http://ipython.org/), [jupyter notebooks](https://jupyter.org/), GUIs)\n",
    "   * More powerful and flexible than Fortran for implementing the high-level logic needed in modern ab-initio workflows\n",
    "   * [pymatgen](https://github.com/materialsproject) ecosystem and the [materials project database](https://www.materialsproject.org/)…\n",
    "   \n",
    "<img src=\"./assets/pydata_stack.png\" width=\"65%\" align=\"center\">"
   ]
  },
  {
   "cell_type": "markdown",
   "metadata": {
    "slideshow": {
     "slide_type": "skip"
    }
   },
   "source": [
    "## AbiPy design principles\n",
    "\n",
    "* Extend the pymatgen code-base with ABINIT-specific objects\n",
    "* Layered structure designed for different use-cases:\n",
    "        \n",
    "     * Post-processing tools and command-line interfaces\n",
    "     * API to automate calculations and data analysis\n",
    "     * High-throughput infrastructure ([abiflows](https://github.com/abinit/abiflows), [fireworks](https://github.com/materialsproject/fireworks), [mongodb](https://www.mongodb.com/))\n",
    "     \n",
    "* Closely connected to the ABINIT executable:\n",
    "\n",
    "    * CPU-intensive algorithms performed by ABINIT (Fortran + MPI + OpenMP)\n",
    "    * Glue code implemented in python\n",
    "   \n",
    "* ABINIT and AbiPy communicate through [netcdf](https://www.unidata.ucar.edu/software/netcdf/docs/) files\n",
    "\n",
    "    * Portable binary format implemented in C\n",
    "    * Fortran/Python bindings and support for parallel MPI-IO (HDF5)\n",
    "    * [ETSF-IO specifications](https://www.etsf.eu/fileformats) for crystalline structures, wavefunctions, densities…"
   ]
  },
  {
   "cell_type": "markdown",
   "metadata": {
    "slideshow": {
     "slide_type": "subslide"
    }
   },
   "source": [
    "## How to install AbiPy\n",
    "\n",
    "<!-- From the most simple to the most complex one, you have three options:-->\n",
    "\n",
    "Using [pip](https://pypi.org/project/pip/) and python wheels:\n",
    "\n",
    "        pip install abipy --user\n",
    "\n",
    "Using [conda](https://conda.io/en/latest/) (*recommended*):\n",
    "\n",
    "        conda install abipy --channel abinit \n",
    "\n",
    "From the [github repository](https://github.com/abinit/abipy) (*develop mode*):\n",
    "\n",
    "        git clone https://github.com/abinit/abipy.git\n",
    "        cd abipy \n",
    "        python setup.py develop\n",
    "    \n",
    "<!--\n",
    "https://pypi.org/project/abipy/\n",
    "https://anaconda.org/abinit/abipy\n",
    "-->\n",
    "\n",
    "<hr>\n",
    "\n",
    "For further info see http://abinit.github.io/abipy/installation.html"
   ]
  },
  {
   "cell_type": "markdown",
   "metadata": {
    "slideshow": {
     "slide_type": "slide"
    }
   },
   "source": [
    "## AbiPy documentation\n",
    "\n",
    "<!--\n",
    "* http://abinit.github.io/abipy/index.html\n",
    "\n",
    "* Jupyter notebooks \n",
    "* Gallery of matplotlib examples and flows\n",
    "* abitutorial github repo with additional examples\n",
    "\n",
    "\n",
    "<img src=\"./assets/abipy_doc_homepage.png\" width=\"100%\" align=\"center\">\n",
    "-->"
   ]
  },
  {
   "cell_type": "code",
   "execution_count": 2,
   "metadata": {
    "scrolled": false,
    "slideshow": {
     "slide_type": "-"
    }
   },
   "outputs": [
    {
     "data": {
      "text/html": [
       "\n",
       "        <iframe\n",
       "            width=\"800\"\n",
       "            height=\"400\"\n",
       "            src=\"https://abinit.github.io/abipy/index.html\"\n",
       "            frameborder=\"0\"\n",
       "            allowfullscreen\n",
       "        ></iframe>\n",
       "        "
      ],
      "text/plain": [
       "<IPython.lib.display.IFrame at 0x10c76b3c8>"
      ]
     },
     "execution_count": 2,
     "metadata": {},
     "output_type": "execute_result"
    }
   ],
   "source": [
    "%embed https://abinit.github.io/abipy/index.html"
   ]
  },
  {
   "cell_type": "markdown",
   "metadata": {
    "slideshow": {
     "slide_type": "subslide"
    }
   },
   "source": [
    "##  Jupyter notebooks with [examples and lessons](https://nbviewer.jupyter.org/github/abinit/abitutorials/blob/master/abitutorials/index.ipynb) \n",
    "\n",
    "<!-- img src=\"./assets/abipy_notebooks.png\" width=\"100%\" align=\"center\" -->"
   ]
  },
  {
   "cell_type": "code",
   "execution_count": 3,
   "metadata": {
    "slideshow": {
     "slide_type": "-"
    }
   },
   "outputs": [
    {
     "data": {
      "text/html": [
       "\n",
       "        <iframe\n",
       "            width=\"800\"\n",
       "            height=\"400\"\n",
       "            src=\"https://nbviewer.jupyter.org/github/abinit/abitutorials/blob/master/abitutorials/index.ipynb\"\n",
       "            frameborder=\"0\"\n",
       "            allowfullscreen\n",
       "        ></iframe>\n",
       "        "
      ],
      "text/plain": [
       "<IPython.lib.display.IFrame at 0x10c76b390>"
      ]
     },
     "execution_count": 3,
     "metadata": {},
     "output_type": "execute_result"
    }
   ],
   "source": [
    "%embed https://nbviewer.jupyter.org/github/abinit/abitutorials/blob/master/abitutorials/index.ipynb"
   ]
  },
  {
   "cell_type": "markdown",
   "metadata": {
    "slideshow": {
     "slide_type": "skip"
    }
   },
   "source": [
    "## Files supported by AbiPy\n",
    "\n",
    "* *GSR.nc* ➝ Ground-state results produced by SCF/NSCF runs\n",
    "* *HIST.nc* ➝ Structural relaxation and molecular dynamics\n",
    "* *FATBANDS.nc* ➝ Fatbands and LM-projected DOS for electrons\n",
    "* *DDB*: ➝ dynamical matrix, Born effective charges, elastic constants…\n",
    "* *SIGRES.nc* ➝ $GW$ calculations ($\\Sigma^{e-e}$ self-energy)\n",
    "* *MDF.nc* ➝ Bethe-Salpeter calculations\n",
    "* *ABIWAN.nc* ➝ *netcdf* file produced by Abinit with wannier90 results \n",
    "* *SIGEPH.nc* ➝ electron-phonon self-energy ($\\Sigma^{e-ph}$)\n",
    "* …\n",
    "\n",
    "#### Jupter notebooks with examples available  [here](https://nbviewer.jupyter.org/github/abinit/abitutorials/blob/master/abitutorials/index.ipynb#Output-files-supported-by-AbiPy)"
   ]
  },
  {
   "cell_type": "markdown",
   "metadata": {
    "slideshow": {
     "slide_type": "slide"
    }
   },
   "source": [
    "<img src=\"./assets/Data-Analysis.jpg\" width=\"95%\" align=\"center\">\n",
    "\n",
    "* Since AbiPy is not just high-throughput, we'll show how to use the terminal to analyze calculations\n",
    "\n",
    "* Well, a python script would be much more flexible but the goal here is to show \n",
    "  that one can replace *grep*, *vim*, *gnuplot* with AbiPy\n",
    "\n",
    "<div class=\"alert alert-warning\">\n",
    "No perl scripts were harmed in the making of this notebook\n",
    "</div>"
   ]
  },
  {
   "cell_type": "markdown",
   "metadata": {
    "slideshow": {
     "slide_type": "skip"
    }
   },
   "source": [
    "## AbiPy post-processing tools\n",
    "\n",
    "* Main entry point: \n",
    "\n",
    "  ```python\n",
    "       from abipy import abilab\n",
    "  abifile = abilab.abiopen(\"filename.nc\")\n",
    "  ```\n",
    "        \n",
    "  where *filename.nc* is a *netcdf* file (support also text files e.g. *run.abo*, *run.log*, *out_DDB*)\n",
    "\n",
    "* *abifile* is the *AbiFile* subclass associated to the given file extension:\n",
    "\n",
    "    1. GSR.nc ➝ *GsrFile*\n",
    "    2. HIST.nc ➝ *HistFile*\n",
    "    3. More than 45 file extensions supported (see `abiopen.py --help`) \n",
    "    \n",
    "\n",
    "* Command line interface: use `abiopen.py FILE` to:\n",
    "\n",
    "     * open the file inside the [*ipython*](https://ipython.org/) terminal\n",
    "     * print info to terminal (`--print` option)\n",
    "     * produce a predefined set of *matplotlib*  figures (`--expose` option)\n",
    "     * generate [jupyter notebooks](https://jupyter.org/) (`--notebook` option)"
   ]
  },
  {
   "cell_type": "markdown",
   "metadata": {
    "slideshow": {
     "slide_type": "slide"
    }
   },
   "source": [
    "## Command line interface\n",
    "\n",
    "* *abistruct.py* ➝ Operate on crystalline structures read from file\n",
    "* *abiopen.py* ➝ Open output files inside Ipython or print/visualize file\n",
    "* *abicomp.py* ➝ Compare multiple files (convergence studies)\n",
    "* *abiview.py* ➝ Quick visualization of output files\n",
    "* *abinp.py* ➝ Generate input files for typical calculations\n",
    "    \n",
    "### Documentation \n",
    "\n",
    "* `abistruct.py --help` for manpage\n",
    "* `abistruct.py COMMAND --help` for help about `COMMAND`\n",
    "\n",
    "<hr>\n",
    "HTML documentation available at http://abinit.github.io/abipy/scripts/index.html\n",
    "\n",
    "### Examples\n",
    "<p></p>\n",
    "\n",
    "```shell\n",
    "abistruct.py spglib si_scf_GSR.nc\n",
    "abistruct.py convert si_scf_GSR.nc -f cif\n",
    "abiopen.py si_scf_GSR.nc --print\n",
    "```\n",
    "\n",
    "### and many more..."
   ]
  },
  {
   "cell_type": "markdown",
   "metadata": {
    "slideshow": {
     "slide_type": "slide"
    }
   },
   "source": [
    "#### Print results of ground-state calculations:"
   ]
  },
  {
   "cell_type": "code",
   "execution_count": 4,
   "metadata": {
    "slideshow": {
     "slide_type": "-"
    }
   },
   "outputs": [
    {
     "name": "stdout",
     "output_type": "stream",
     "text": [
      "================================= File Info =================================\r\n",
      "Name: si_scf_GSR.nc\r\n",
      "Directory: /Users/gmatteo/talks/abipy_intro_abidev2019\r\n",
      "Size: 14.83 kb\r\n",
      "Access Time: Wed May 15 15:06:48 2019\r\n",
      "Modification Time: Sun May 12 04:20:35 2019\r\n",
      "Change Time: Sun May 12 04:20:35 2019\r\n",
      "\r\n",
      "================================= Structure =================================\r\n",
      "Full Formula (Si2)\r\n",
      "Reduced Formula: Si\r\n",
      "abc   :   3.866975   3.866975   3.866975\r\n",
      "angles:  60.000000  60.000000  60.000000\r\n",
      "Sites (2)\r\n",
      "  #  SP       a     b     c  cartesian_forces\r\n",
      "---  ----  ----  ----  ----  -----------------------------------------------------------\r\n",
      "  0  Si    0     0     0     [-5.89948302e-27 -1.93366148e-27  2.91016902e-27] eV ang^-1\r\n",
      "  1  Si    0.25  0.25  0.25  [ 5.89948302e-27  1.93366148e-27 -2.91016902e-27] eV ang^-1\r\n",
      "\r\n",
      "Abinit Spacegroup: spgid: 227, num_spatial_symmetries: 48, has_timerev: True, symmorphic: True\r\n",
      "\r\n",
      "Stress tensor (Cartesian coordinates in GPa):\r\n",
      "[[5.21161758e+00 7.86452261e-11 0.00000000e+00]\r",
      "\r\n",
      " [7.86452261e-11 5.21161758e+00 0.00000000e+00]\r\n",
      " [0.00000000e+00 0.00000000e+00 5.21161758e+00]]\r\n",
      "\r\n",
      "Pressure: -5.212 (GPa)\r\n",
      "Energy: -241.23646832 (eV)\r\n",
      "\r\n",
      "============================== Electronic Bands ==============================\r\n",
      "Number of electrons: 8.0, Fermi level: 5.598 (eV)\r\n",
      "nsppol: 1, nkpt: 29, mband: 8, nspinor: 1, nspden: 1\r\n",
      "smearing scheme: none, tsmear_eV: 0.272, occopt: 1\r\n",
      "Direct gap:\r\n",
      "    Energy: 2.532 (eV)\r\n",
      "    Initial state: spin=0, kpt=[+0.000, +0.000, +0.000], weight: 0.002, band=3, eig=5.598, occ=2.000\r\n",
      "    Final state:   spin=0, kpt=[+0.000, +0.000, +0.000], weight: 0.002, band=4, eig=8.130, occ=0.000\r\n",
      "Fundamental gap:\r\n",
      "    Energy: 0.562 (eV)\r\n",
      "    Initial state: spin=0, kpt=[+0.000, +0.000, +0.000], weight: 0.002, band=3, eig=5.598, occ=2.000\r\n",
      "    Final state:   spin=0, kpt=[+0.375, +0.375, +0.000], weight: 0.012, band=4, eig=6.161, occ=0.000\r\n",
      "Bandwidth: 11.856 (eV)\r\n",
      "Valence maximum located at:\r\n",
      "    spin=0, kpt=[+0.000, +0.000, +0.000], weight: 0.002, band=3, eig=5.598, occ=2.000\r\n",
      "Conduction minimum located at:\r\n",
      "    spin=0, kpt=[+0.375, +0.375, +0.000], weight: 0.012, band=4, eig=6.161, occ=0.000\r\n",
      "\r\n"
     ]
    }
   ],
   "source": [
    "!abiopen.py si_scf_GSR.nc --print"
   ]
  },
  {
   "cell_type": "markdown",
   "metadata": {
    "slideshow": {
     "slide_type": "skip"
    }
   },
   "source": [
    "#### To produce a predefined set of matplotlib figures, use:\n",
    "<p></p>\n",
    "\n",
    "```shell\n",
    "abiopen.py si_nscf_GSR.nc --expose\n",
    "```    \n",
    "    \n",
    "<img src=\"assets/abiopen_expose.png\" width=\"75%\" align=\"center\" alt=\"abiopen_expose\">"
   ]
  },
  {
   "cell_type": "markdown",
   "metadata": {
    "slideshow": {
     "slide_type": "subslide"
    }
   },
   "source": [
    "#### To produce a predefined set of matplotlib figures, use:\n",
    "<p></p>\n",
    "\n",
    "```shell\n",
    "abiopen.py mgb2_kpath_FATBANDS.nc --expose --seaborn\n",
    "```    \n",
    "\n",
    "<img src=\"assets/mgb2_fatbands.png\" width=\"95%\" align=\"center\" alt=\"abiopen_expose\">"
   ]
  },
  {
   "cell_type": "markdown",
   "metadata": {
    "slideshow": {
     "slide_type": "subslide"
    }
   },
   "source": [
    "#### *abiopen.py* works supports output files (*abo* extension):"
   ]
  },
  {
   "cell_type": "code",
   "execution_count": 5,
   "metadata": {
    "slideshow": {
     "slide_type": "-"
    }
   },
   "outputs": [
    {
     "name": "stdout",
     "output_type": "stream",
     "text": [
      "ndtset: 3, completed: True\r\n",
      "Full Formula (C2)\r\n",
      "Reduced Formula: C\r\n",
      "abc   :   2.508336   2.508336   2.508336\r\n",
      "angles:  60.000000  60.000000  60.000000\r\n",
      "Sites (2)\r\n",
      "  #  SP       a     b     c\r\n",
      "---  ----  ----  ----  ----\r\n",
      "  0  C     0     0     0\r\n",
      "  1  C     0.25  0.25  0.25\r\n",
      "\r\n",
      "Abinit Spacegroup: spgid: 227, num_spatial_symmetries: 48, has_timerev: True, symmorphic: True\r\n",
      "\r\n",
      "========================= Dimensions of calculation =========================\r\n",
      "         intxc  ionmov  iscf  lmnmax  lnmax  mgfft  mpssoang  mqgrid  natom  \\\r\n",
      "dataset                                                                       \r\n",
      "1            0     0.0     7       1      1     24         2    3001      2   \r\n",
      "2            0     NaN     7       1      1     24         2    3001      2   \r\n",
      "3            0     NaN     7       1      1     24         2    3001      2   \r\n",
      "\r\n",
      "         nloc_mem  nspden  nspinor  nsppol  nsym  n1xccc  ntypat  occopt  \\\r\n",
      "dataset                                                                    \r\n",
      "1               1       1        1       1    48    2501       1       1   \r\n",
      "2               1       1        1       1    48    2501       1       1   \r\n",
      "3               1       1        1       1    48    2501       1       1   \r\n",
      "\r\n",
      "         xclevel  mband  mffmem  mkmem  mpw   nfft  nkpt  mem_per_proc_mb  \\\r\n",
      "dataset                                                                     \r\n",
      "1              1      4       1      8  609  13824     8            4.791   \r\n",
      "2              1      4       1     64  609  13824    64           11.529   \r\n",
      "3              1      4       1     64  609  13824    64           12.285   \r\n",
      "\r\n",
      "         wfk_size_mb  denpot_size_mb spg_symbol  spg_number  \\\r\n",
      "dataset                                                       \r\n",
      "1              0.299           0.107      Fd-3m         227   \r\n",
      "2              2.381           0.107      Fd-3m         227   \r\n",
      "3              2.381           0.107      Fd-3m         227   \r\n",
      "\r\n",
      "                                bravais  \r\n",
      "dataset                                  \r\n",
      "1        Bravais cF (face-center cubic)  \r\n",
      "2        Bravais cF (face-center cubic)  \r\n",
      "3        Bravais cF (face-center cubic)  \r\n",
      " \r\n",
      "\r\n"
     ]
    }
   ],
   "source": [
    "!abiopen.py gs_dfpt.abo -p "
   ]
  },
  {
   "cell_type": "markdown",
   "metadata": {
    "slideshow": {
     "slide_type": "subslide"
    }
   },
   "source": [
    "#### and log files as well:"
   ]
  },
  {
   "cell_type": "code",
   "execution_count": 6,
   "metadata": {},
   "outputs": [
    {
     "name": "stdout",
     "output_type": "stream",
     "text": [
      "Events found in /Users/gmatteo/talks/abipy_intro_abidev2019/run.log\r\n",
      "\r\n",
      "[1] \u001b[34m<AbinitComment at m_dtfil.F90:1082>\u001b[0m\r\n",
      "    Output file: run.abo already exists.\r\n",
      "    \r\n",
      "[2] \u001b[34m<AbinitComment at m_dtfil.F90:1106>\u001b[0m\r\n",
      "    Renaming old run.abo to run.abo0001\r\n",
      "    \r\n",
      "[3] \u001b[35m<AbinitWarning at m_mpinfo.F90:2295>\u001b[0m\r\n",
      "    nkpt*nsppol (29) is not a multiple of nproc_kpt (2)\r\n",
      "    The k-point parallelisation is not efficient.\r\n",
      "    \r\n",
      "[4] \u001b[35m<AbinitWarning at m_mpinfo.F90:2295>\u001b[0m\r\n",
      "    nkpt*nsppol (29) is not a multiple of nproc_kpt (2)\r\n",
      "    The k-point parallelisation is not efficient.\r\n",
      "    \r\n",
      "[5] \u001b[34m<AbinitComment at m_xgScalapack.F90:237>\u001b[0m\r\n",
      "    xgScalapack in auto mode\r\n",
      "    \r\n",
      "[6] \u001b[35m<AbinitWarning at m_phonons.F90:3215>\u001b[0m\r\n",
      "    ph_nqpath <= 0 or ph_ndivsm <= 0. Phonon bands won't be produced. returning\r\n",
      "    \r\n",
      "[7] \u001b[34m<AbinitComment at m_xgScalapack.F90:237>\u001b[0m\r\n",
      "    xgScalapack in auto mode\r\n",
      "    \r\n",
      "[8] \u001b[35m<AbinitWarning at m_phonons.F90:3215>\u001b[0m\r\n",
      "    ph_nqpath <= 0 or ph_ndivsm <= 0. Phonon bands won't be produced. returning\r\n",
      "    \r\n",
      "num_errors: 0, num_warnings: 4, num_comments: 4, completed: True\r\n",
      "\r\n"
     ]
    }
   ],
   "source": [
    "!abiopen.py run.log -p "
   ]
  },
  {
   "cell_type": "markdown",
   "metadata": {
    "slideshow": {
     "slide_type": "subslide"
    }
   },
   "source": [
    "#### If you are still using perl scripts to extract data from the main output file, check this out:\n",
    "<p></p>\n",
    "\n",
    "```sh\n",
    "abiopen.py gs_dfpt.abo --expose --seaborn\n",
    "```\n",
    "\n",
    "<img src=\"assets/abiopen_abo.png\" width=\"85%\" align=\"center\">"
   ]
  },
  {
   "cell_type": "markdown",
   "metadata": {
    "slideshow": {
     "slide_type": "slide"
    }
   },
   "source": [
    "<img src=\"assets/abistruct.png\" width=\"35%\" align=\"center\">"
   ]
  },
  {
   "cell_type": "markdown",
   "metadata": {
    "slideshow": {
     "slide_type": "subslide"
    }
   },
   "source": [
    "#### Convert structure from netcdf format to CIF:"
   ]
  },
  {
   "cell_type": "code",
   "execution_count": 7,
   "metadata": {
    "slideshow": {
     "slide_type": "-"
    }
   },
   "outputs": [
    {
     "name": "stdout",
     "output_type": "stream",
     "text": [
      "# generated using pymatgen\r\n",
      "data_Si\r\n",
      "_symmetry_space_group_name_H-M   'P 1'\r\n",
      "_cell_length_a   3.86697464\r\n",
      "_cell_length_b   3.86697464\r\n",
      "_cell_length_c   3.86697464\r\n",
      "_cell_angle_alpha   60.00000000\r\n",
      "_cell_angle_beta   60.00000000\r\n",
      "_cell_angle_gamma   60.00000000\r\n",
      "_symmetry_Int_Tables_number   1\r\n",
      "_chemical_formula_structural   Si\r\n",
      "_chemical_formula_sum   Si2\r\n",
      "_cell_volume   40.88829228\r\n",
      "_cell_formula_units_Z   2\r\n",
      "loop_\r\n",
      " _symmetry_equiv_pos_site_id\r\n",
      " _symmetry_equiv_pos_as_xyz\r\n",
      "  1  'x, y, z'\r\n",
      "loop_\r\n",
      " _atom_site_type_symbol\r\n",
      " _atom_site_label\r\n",
      " _atom_site_symmetry_multiplicity\r\n",
      " _atom_site_fract_x\r\n",
      " _atom_site_fract_y\r\n",
      " _atom_site_fract_z\r\n",
      " _atom_site_occupancy\r\n",
      "  Si  Si1  1  0.000000  0.000000  0.000000  1\r\n",
      "  Si  Si2  1  0.250000  0.250000  0.250000  1\r\n",
      "\r\n"
     ]
    }
   ],
   "source": [
    "!abistruct.py convert si_scf_GSR.nc -f cif"
   ]
  },
  {
   "cell_type": "markdown",
   "metadata": {
    "slideshow": {
     "slide_type": "subslide"
    }
   },
   "source": [
    "#### Are you still using *cut3d* to export the structure in a format that other applications can understand?\n",
    "<p></p>\n",
    "\n",
    "\n",
    "```sh\n",
    "abistruct.py visualize run_si02.abi\n",
    "```\n",
    "\n",
    "<img src=\"assets/sio2_vesta.png\" width=\"85%\" align=\"center\">\n",
    "\n",
    "\n",
    "#### Supports also *ovito*, *xcrysden*, *vtk*, *mayavi*, *matplotlib*  (Use *--application*)"
   ]
  },
  {
   "cell_type": "markdown",
   "metadata": {
    "slideshow": {
     "slide_type": "subslide"
    }
   },
   "source": [
    "#### Read structure from FILE and invoke [spglib](https://atztogo.github.io/spglib/) to analyze symmetries:"
   ]
  },
  {
   "cell_type": "code",
   "execution_count": 8,
   "metadata": {
    "scrolled": true,
    "slideshow": {
     "slide_type": "-"
    }
   },
   "outputs": [
    {
     "name": "stdout",
     "output_type": "stream",
     "text": [
      "Full Formula (Si2)\r\n",
      "Reduced Formula: Si\r\n",
      "abc   :   3.866975   3.866975   3.866975\r\n",
      "angles:  60.000000  60.000000  60.000000\r\n",
      "\r\n",
      "Spglib space group info (magnetic symmetries not taken into account).\r\n",
      "Spacegroup: Fd-3m (227), Hall: F 4d 2 3 -1d, Abinit spg_number: 227\r\n",
      "Crystal_system: cubic, Lattice_type: cubic, Point_group: m-3m\r\n",
      "\r\n",
      "  Idx  Symbol    Reduced_Coords              Wyckoff      EqIdx\r\n",
      "-----  --------  --------------------------  ---------  -------\r\n",
      "    0  Si        +0.00000 +0.00000 +0.00000  (2a)             0\r\n",
      "    1  Si        +0.25000 +0.25000 +0.25000  (2a)             0\r\n"
     ]
    }
   ],
   "source": [
    "!abistruct.py spglib si_scf_GSR.nc"
   ]
  },
  {
   "cell_type": "markdown",
   "metadata": {
    "slideshow": {
     "slide_type": "-"
    }
   },
   "source": [
    "#### It works with any file providing a structure object (*.nc*, .abi, *.cif* …) "
   ]
  },
  {
   "cell_type": "markdown",
   "metadata": {
    "slideshow": {
     "slide_type": "subslide"
    }
   },
   "source": [
    "#### Read structure from FILE and print ABINIT variables for k-path:"
   ]
  },
  {
   "cell_type": "code",
   "execution_count": 9,
   "metadata": {
    "slideshow": {
     "slide_type": "-"
    }
   },
   "outputs": [
    {
     "name": "stdout",
     "output_type": "stream",
     "text": [
      "# Abinit Structure\r\n",
      " natom 2\r\n",
      " ntypat 1\r\n",
      " typat 1 1\r\n",
      " znucl 14\r\n",
      " xred\r\n",
      "    0.0000000000    0.0000000000    0.0000000000\r\n",
      "    0.2500000000    0.2500000000    0.2500000000\r\n",
      " acell    1.0    1.0    1.0\r\n",
      " rprim\r\n",
      "    6.3285005521    0.0000000000    3.6537614973\r\n",
      "    2.1095001840    5.9665675402    3.6537614973\r\n",
      "    0.0000000000    0.0000000000    7.3075229946\r\n",
      "\r\n",
      "# K-path in reduced coordinates:\r\n",
      "# tolwfr 1e-20 iscf -2 getden ??\r\n",
      " ndivsm 10\r\n",
      " kptopt -11\r\n",
      " kptbounds\r\n",
      "    +0.00000  +0.00000  +0.00000  # $\\Gamma$\r\n",
      "    +0.50000  +0.00000  +0.50000  # X\r\n",
      "    +0.50000  +0.25000  +0.75000  # W\r\n",
      "    +0.37500  +0.37500  +0.75000  # K\r\n",
      "    +0.00000  +0.00000  +0.00000  # $\\Gamma$\r\n",
      "    +0.50000  +0.50000  +0.50000  # L\r\n",
      "    +0.62500  +0.25000  +0.62500  # U\r\n",
      "    +0.50000  +0.25000  +0.75000  # W\r\n",
      "    +0.50000  +0.50000  +0.50000  # L\r\n",
      "    +0.37500  +0.37500  +0.75000  # K\r\n",
      "    +0.62500  +0.25000  +0.62500  # U\r\n",
      "    +0.50000  +0.00000  +0.50000  # X\r\n"
     ]
    }
   ],
   "source": [
    "!abistruct.py kpath si_scf_GSR.nc"
   ]
  },
  {
   "cell_type": "markdown",
   "metadata": {
    "slideshow": {
     "slide_type": "skip"
    }
   },
   "source": [
    "#### Read structure from FILE, find little group of k-point, print irreps character table"
   ]
  },
  {
   "cell_type": "code",
   "execution_count": 10,
   "metadata": {
    "slideshow": {
     "slide_type": "skip"
    }
   },
   "outputs": [
    {
     "name": "stdout",
     "output_type": "stream",
     "text": [
      "\n",
      "================================= Structure =================================\n",
      "Full Formula (Si2)\n",
      "Reduced Formula: Si\n",
      "abc   :   3.866975   3.866975   3.866975\n",
      "angles:  60.000000  60.000000  60.000000\n",
      "\n",
      "Spglib space group info (magnetic symmetries not taken into account).\n",
      "Spacegroup: Fd-3m (227), Hall: F 4d 2 3 -1d, Abinit spg_number: 227\n",
      "Crystal_system: cubic, Lattice_type: cubic, Point_group: m-3m\n",
      "\n",
      "  Idx  Symbol    Reduced_Coords              Wyckoff      EqIdx\n",
      "-----  --------  --------------------------  ---------  -------\n",
      "    0  Si        +0.00000 +0.00000 +0.00000  (2a)             0\n",
      "    1  Si        +0.25000 +0.25000 +0.25000  (2a)             0\n",
      "\n",
      "\n",
      "================================ Little Group ================================\n",
      "Kpoint-group: m-3m, Oh (221), Kpoint: [0.0, 0.0, 0.0], Symmorphic: True\n",
      " \n",
      "Oh     1+ [1]   2+ [3]   3+ [8]   2+ [6]   4+ [6]  -2- [1]  -2+ [3]  -6- [8]  -2+ [6]  -4+ [6]\n",
      "Irrep                                                                                         \n",
      "A1g    (1+0j)   (1+0j)   (1+0j)   (1+0j)   (1+0j)   (1+0j)   (1+0j)   (1+0j)   (1+0j)   (1+0j)\n",
      "A1u    (1+0j)   (1+0j)   (1+0j)   (1+0j)   (1+0j)  (-1+0j)  (-1+0j)  (-1+0j)  (-1+0j)  (-1+0j)\n",
      "A2g    (1+0j)   (1+0j)   (1+0j)  (-1+0j)  (-1+0j)   (1+0j)   (1+0j)   (1+0j)  (-1+0j)  (-1+0j)\n",
      "A2u    (1+0j)   (1+0j)   (1+0j)  (-1+0j)  (-1+0j)  (-1+0j)  (-1+0j)  (-1+0j)   (1+0j)   (1+0j)\n",
      "Eg     (2+0j)   (2+0j)  (-1+0j)       0j       0j   (2+0j)   (2+0j)  (-1+0j)       0j       0j\n",
      "Eu     (2+0j)   (2+0j)  (-1+0j)       0j       0j  (-2+0j)  (-2+0j)   (1+0j)       0j       0j\n",
      "T1g    (3+0j)  (-1+0j)       0j  (-1+0j)   (1+0j)   (3+0j)  (-1+0j)       0j  (-1+0j)   (1+0j)\n",
      "T1u    (3+0j)  (-1+0j)       0j  (-1+0j)   (1+0j)  (-3+0j)   (1+0j)       0j   (1+0j)  (-1+0j)\n",
      "T2g    (3+0j)  (-1+0j)       0j   (1+0j)  (-1+0j)   (3+0j)  (-1+0j)       0j   (1+0j)  (-1+0j)\n",
      "T2u    (3+0j)  (-1+0j)       0j   (1+0j)  (-1+0j)  (-3+0j)   (1+0j)       0j  (-1+0j)   (1+0j)\n",
      "\n"
     ]
    }
   ],
   "source": [
    "!abistruct.py lgk si_scf_GSR.nc -k 0 0 0"
   ]
  },
  {
   "cell_type": "markdown",
   "metadata": {
    "slideshow": {
     "slide_type": "subslide"
    }
   },
   "source": [
    "#### Connect to the materials project database. Get structures corresponding to a chemical system or formula e.g. `Fe2O3` or `Li-Fe-O` or `Ir-O-*` for wildcard pattern matching.\n",
    "\n",
    "<!--\n",
    "Print info and Abinit input files. Use e.g. `-f POSCAR`\n",
    "to change output format. `-f None` to disable structure output.\n",
    "-->"
   ]
  },
  {
   "cell_type": "code",
   "execution_count": 11,
   "metadata": {
    "slideshow": {
     "slide_type": "-"
    }
   },
   "outputs": [
    {
     "name": "stdout",
     "output_type": "stream",
     "text": [
      "\n",
      "# Found 1 structures in Materials Project database (use `verbose` to get further info)\n",
      "\n",
      " \n",
      "########################## abivars input for mp-149 ##########################\n",
      "# Full Formula (Si2)\n",
      "# Reduced Formula: Si\n",
      "# abc   :   3.866975   3.866975   3.866975\n",
      "# angles:  60.000000  60.000000  60.000000\n",
      "# \n",
      "# Spglib space group info (magnetic symmetries not taken into account).\n",
      "# Spacegroup: Fd-3m (227), Hall: F 4d 2 3 -1d, Abinit spg_number: None\n",
      "# Crystal_system: cubic, Lattice_type: cubic, Point_group: m-3m\n",
      "# \n",
      "#   Idx  Symbol    Reduced_Coords              Wyckoff      EqIdx\n",
      "# -----  --------  --------------------------  ---------  -------\n",
      "#     0  Si        +0.87500 +0.87500 +0.87500  (2a)             0\n",
      "#     1  Si        +0.12500 +0.12500 +0.12500  (2a)             0\n",
      "\n",
      " natom 2\n",
      " ntypat 1\n",
      " typat 1 1\n",
      " znucl 14\n",
      " xred\n",
      "    0.8750000000    0.8750000000    0.8750000000\n",
      "    0.1250000000    0.1250000000    0.1250000000\n",
      " acell    1.0    1.0    1.0\n",
      " rprim\n",
      "    6.3285005334    0.0000000000    3.6537614829\n",
      "    2.1095001778    5.9665675247    3.6537614829\n",
      "    0.0000000000    0.0000000000    7.3075229659\n",
      "\n",
      "\n",
      "\n"
     ]
    }
   ],
   "source": [
    "!abistruct.py mp_match si_scf_GSR.nc"
   ]
  },
  {
   "cell_type": "code",
   "execution_count": 12,
   "metadata": {
    "slideshow": {
     "slide_type": "skip"
    }
   },
   "outputs": [],
   "source": [
    "#!abistruct.py mp_search LiF"
   ]
  },
  {
   "cell_type": "markdown",
   "metadata": {
    "slideshow": {
     "slide_type": "slide"
    }
   },
   "source": [
    "<img src=\"assets/abiview.png\" width=\"35%\" align=\"center\">"
   ]
  },
  {
   "cell_type": "markdown",
   "metadata": {
    "slideshow": {
     "slide_type": "subslide"
    }
   },
   "source": [
    "#### Want to know what's happening in the structural relaxation?\n",
    "<p></p>\n",
    "\n",
    "```sh\n",
    "abiview.py hist sic_relax_HIST.nc\n",
    "```\n",
    "\n",
    "<p></p>\n",
    "<img src=\"assets/abiview_hist.png\" width=\"85%\" align=\"center\">"
   ]
  },
  {
   "cell_type": "markdown",
   "metadata": {
    "slideshow": {
     "slide_type": "subslide"
    }
   },
   "source": [
    "#### Need to call *anaddb* to compute and visualize ph-bands and DOS from DDB?\n",
    "<p></p>\n",
    "\n",
    "\n",
    "```sh\n",
    "abiview.py ddb ZnSe_hex_qpt_DDB --seaborn\n",
    "```"
   ]
  },
  {
   "cell_type": "markdown",
   "metadata": {
    "slideshow": {
     "slide_type": "-"
    }
   },
   "source": [
    "<img src=\"assets/abiview_ddb.png\" width=\"90%\" align=\"center\">"
   ]
  },
  {
   "cell_type": "markdown",
   "metadata": {
    "slideshow": {
     "slide_type": "subslide"
    }
   },
   "source": [
    "#### Need to get a quick look at the Fermi surface?\n",
    "<p></p>\n",
    "\n",
    "```\n",
    "abiview.py fs mgb2_kmesh181818_FATBANDS.nc\n",
    "```\n",
    "<p></p>\n",
    "\n",
    "<img src=\"assets/mgb2_fs.png\" width=\"85%\" align=\"center\">\n",
    "\n",
    "#### Use *-a xsf* for Xcrysden or *-a mayavi* for Mayavi backend"
   ]
  },
  {
   "cell_type": "markdown",
   "metadata": {
    "slideshow": {
     "slide_type": "slide"
    }
   },
   "source": [
    "<img src=\"assets/abicomp.png\" width=\"35%\" align=\"center\">"
   ]
  },
  {
   "cell_type": "markdown",
   "metadata": {
    "slideshow": {
     "slide_type": "skip"
    }
   },
   "source": [
    "## Abipy Robots\n",
    "\n",
    "* High-level interface to operate on <u>multiple files</u> with the same file extension\n",
    "\n",
    "* Useful for:\n",
    "\n",
    "     * convergence studies\n",
    "     * producing multiple plots\n",
    "     * building [Pandas dataframes](https://pandas.pydata.org/) (data in tabular format powered by python)\n",
    "\n",
    "* Each *Robot* is associated to a file extension, *e.g.* \n",
    "\n",
    "     * GSR.nc ➝ *GsrRobot*\n",
    "     * DDB ➝ *DdbRobot*\n",
    "     \n",
    "* *Robots* can be constructed from:\n",
    "\n",
    "    1. List of filenames\n",
    "    2. Directories and regular expressions\n",
    "    \n",
    "* Command line interface provided by the *abicomp.py* script:\n",
    "\n",
    "* To generate notebook to compare multiple *GSR* files, use:\n",
    "\n",
    "            abicomp.py gsr out1_GSR.nc  out2_GSR.nc --notebook"
   ]
  },
  {
   "cell_type": "markdown",
   "metadata": {
    "slideshow": {
     "slide_type": "subslide"
    }
   },
   "source": [
    "#### To compare multiple structures \n",
    "\n",
    "<small>Note shell wildcard characters and Unix `find` inside backticks</small>"
   ]
  },
  {
   "cell_type": "code",
   "execution_count": 13,
   "metadata": {
    "slideshow": {
     "slide_type": "-"
    }
   },
   "outputs": [
    {
     "name": "stdout",
     "output_type": "stream",
     "text": [
      "Spglib options: symprec= 0.001 angle_tolerance= 5.0\n",
      "Lattice parameters:\n",
      "                  formula  natom  alpha  beta  gamma         a         b  \\\n",
      "AlAs.cif          Al1 As1      2   60.0  60.0   60.0  3.970101  3.970101   \n",
      "si.cif                Si2      2   60.0  60.0   60.0  3.866975  3.866975   \n",
      "si_nscf_GSR.nc        Si2      2   60.0  60.0   60.0  3.866975  3.866975   \n",
      "ZnSe_hex_qpt_DDB  Zn2 Se2      4   90.0  90.0  120.0  4.050187  4.050187   \n",
      "\n",
      "                         c     volume abispg_num spglib_symb  spglib_num  \\\n",
      "AlAs.cif          3.970101  44.247584       None       F-43m         216   \n",
      "si.cif            3.866975  40.888292       None       Fd-3m         227   \n",
      "si_nscf_GSR.nc    3.866975  40.888292        227       Fd-3m         227   \n",
      "ZnSe_hex_qpt_DDB  6.652328  94.504936          0      P6_3mc         186   \n",
      "\n",
      "                 spglib_lattice_type  \n",
      "AlAs.cif                       cubic  \n",
      "si.cif                         cubic  \n",
      "si_nscf_GSR.nc                 cubic  \n",
      "ZnSe_hex_qpt_DDB           hexagonal  \n",
      " \n"
     ]
    }
   ],
   "source": [
    "!abicomp.py structure *.cif si_nscf_GSR.nc `find . -name *_DDB`"
   ]
  },
  {
   "cell_type": "code",
   "execution_count": 14,
   "metadata": {
    "slideshow": {
     "slide_type": "notes"
    }
   },
   "outputs": [],
   "source": [
    "#plotter = abilab.ElectronBandsPlotter()\n",
    "#plotter.add_ebands(label=\"BZ sampling\", bands=\"si_scf_GSR.nc\")\n",
    "#plotter.add_ebands(label=\"k-path\", bands=\"si_nscf_GSR.nc\")\n",
    "#plotter.gridplot(with_gaps=True);"
   ]
  },
  {
   "cell_type": "markdown",
   "metadata": {
    "slideshow": {
     "slide_type": "subslide"
    }
   },
   "source": [
    "#### Use *ElectronBandsPlotter* to visualize multiple band structures:\n",
    "<p></p>\n",
    "\n",
    "```sh\n",
    "abicomp.py ebands *_GSR.nc\n",
    "```\n",
    "\n",
    "<p></p>\n",
    "\n",
    "<img src=\"assets/abicomp_ebands.png\" width=\"85%\" align=\"center\">"
   ]
  },
  {
   "cell_type": "markdown",
   "metadata": {
    "slideshow": {
     "slide_type": "subslide"
    }
   },
   "source": [
    "#### Pandas dataframe printed to terminal:"
   ]
  },
  {
   "cell_type": "markdown",
   "metadata": {
    "slideshow": {
     "slide_type": "-"
    }
   },
   "source": [
    "```text\n",
    "               nsppol  nspinor  nspden  nkpt  nband  nelect    fermie  \\\n",
    "si_nscf_GSR.nc       1        1       1    14      8     8.0  5.598453\n",
    "si_scf_GSR.nc        1        1       1    29      8     8.0  5.598453\n",
    "\n",
    "               formula  natom  alpha  beta  gamma         a         b  \\\n",
    "si_nscf_GSR.nc     Si2      2   60.0  60.0   60.0  3.866975  3.866975\n",
    "si_scf_GSR.nc      Si2      2   60.0  60.0   60.0  3.866975  3.866975\n",
    "\n",
    "                       c     volume abispg_num spglib_symb  spglib_num  \\\n",
    "si_nscf_GSR.nc  3.866975  40.888292        227       Fd-3m         227\n",
    "si_scf_GSR.nc   3.866975  40.888292        227       Fd-3m         227\n",
    "\n",
    "               spglib_lattice_type scheme  occopt  tsmear_ev  bandwidth_spin0  \\\n",
    "si_nscf_GSR.nc               cubic   none       1   0.272114        11.855854\n",
    "si_scf_GSR.nc                cubic   none       1   0.272114        11.855874\n",
    "\n",
    "                fundgap_spin0  dirgap_spin0  gap_type  \\\n",
    "si_nscf_GSR.nc       0.524340      2.531828  indirect\n",
    "si_scf_GSR.nc        0.562277      2.531798  indirect\n",
    "\n",
    "                                   fundgap_kstart              fundgap_kend  \\\n",
    "si_nscf_GSR.nc  [+0.000, +0.000, +0.000] $\\Gamma$  [+0.000, +0.429, +0.429]\n",
    "si_scf_GSR.nc            [+0.000, +0.000, +0.000]  [+0.375, +0.375, +0.000]\n",
    "\n",
    "                                    dirgap_kstart  \\\n",
    "si_nscf_GSR.nc  [+0.000, +0.000, +0.000] $\\Gamma$\n",
    "si_scf_GSR.nc            [+0.000, +0.000, +0.000]\n",
    "\n",
    "                                      dirgap_kend\n",
    "si_nscf_GSR.nc  [+0.000, +0.000, +0.000] $\\Gamma$\n",
    "si_scf_GSR.nc            [+0.000, +0.000, +0.000]\n",
    "```"
   ]
  },
  {
   "cell_type": "markdown",
   "metadata": {
    "slideshow": {
     "slide_type": "skip"
    }
   },
   "source": [
    "### Post-processing the DFPT results available in the MP database\n",
    "\n",
    "* More than 1500 DFPT calculations done with abiflows ([Petretto et al.](https://www.nature.com/articles/sdata201865))\n",
    "* Results available on the materials project website (including the *DDB* files) \n",
    "\n",
    "<hr>\n",
    "\n",
    "Let's assume we want to reuse the raw data for our research work:\n",
    "\n",
    "   * Handling 1500 tabs in the web browser is not feasible\n",
    "   * We need a <u>programmatic</u> interface to automate stuff. \n",
    "\n",
    "With python we can easily connect the different parts of the puzzle:\n",
    "\n",
    "* REST API to get the raw data (*DDB*) from the MP database\n",
    "* Computation of phonons, thermodinamical properties, Born effective charges, dielectric tensor, IR spectrum with ABINIT\n",
    "* Post-processing with AbiPy\n",
    "\n",
    "For a more comprehensive discussion see this \n",
    "[abitutorial](https://nbviewer.jupyter.org/github/abinit/abitutorials/blob/master/abitutorials/ddb.ipynb)\n",
    "\n",
    "<!--\n",
    "The results for the rocksalt phase of MgO are available at https://materialsproject.org/materials/mp-1009129/\n",
    "-->"
   ]
  },
  {
   "cell_type": "markdown",
   "metadata": {
    "slideshow": {
     "slide_type": "slide"
    }
   },
   "source": [
    "## How to use DdbRobot to perform convergence studies\n",
    "\n",
    "<!--\n",
    "We have performed DFPT calculations for a metallic system ($MgB_2$) and we \n",
    "are interested in the effect of the k-sampling and the smearing on the vibrational properties.\n",
    "-->\n",
    "##### Let's use the *DdbRobot* to compare phonons obtained with different k-meshes and smearing values:"
   ]
  },
  {
   "cell_type": "code",
   "execution_count": 15,
   "metadata": {
    "run_control": {
     "marked": true
    },
    "slideshow": {
     "slide_type": "-"
    }
   },
   "outputs": [],
   "source": [
    "paths = [\n",
    "    \"mgb2_888k_0.01tsmear_DDB\",\n",
    "    \"mgb2_888k_0.04tsmear_DDB\",\n",
    "    \"mgb2_121212k_0.01tsmear_DDB\",\n",
    "    \"mgb2_121212k_0.04tsmear_DDB\",\n",
    "]\n",
    "\n",
    "paths = [os.path.join(abidata.dirpath, \"refs\", \"mgb2_phonons_nkpt_tsmear\", f) \n",
    "         for f in paths]\n",
    "\n",
    "robot = abilab.DdbRobot()\n",
    "for i, path in enumerate(paths):\n",
    "    robot.add_file(path, path)"
   ]
  },
  {
   "cell_type": "code",
   "execution_count": 16,
   "metadata": {
    "slideshow": {
     "slide_type": "-"
    }
   },
   "outputs": [
    {
     "data": {
      "text/html": [
       "<ol start=\"0\">\n",
       "<li>nkpt: 256, tsmear: 0.01</li>\n",
       "<li>nkpt: 256, tsmear: 0.04</li>\n",
       "<li>nkpt: 864, tsmear: 0.01</li>\n",
       "<li>nkpt: 864, tsmear: 0.04</li>\n",
       "</ol>"
      ],
      "text/plain": [
       "Label                    Relpath\n",
       "-----------------------  ------------------------------------------------------------------------------------------\n",
       "nkpt: 256, tsmear: 0.01  ../../git_repos/abipy/abipy/data/refs/mgb2_phonons_nkpt_tsmear/mgb2_888k_0.01tsmear_DDB\n",
       "nkpt: 256, tsmear: 0.04  ../../git_repos/abipy/abipy/data/refs/mgb2_phonons_nkpt_tsmear/mgb2_888k_0.04tsmear_DDB\n",
       "nkpt: 864, tsmear: 0.01  ../../git_repos/abipy/abipy/data/refs/mgb2_phonons_nkpt_tsmear/mgb2_121212k_0.01tsmear_DDB\n",
       "nkpt: 864, tsmear: 0.04  ../../git_repos/abipy/abipy/data/refs/mgb2_phonons_nkpt_tsmear/mgb2_121212k_0.04tsmear_DDB"
      ]
     },
     "execution_count": 16,
     "metadata": {},
     "output_type": "execute_result"
    }
   ],
   "source": [
    "# Define function to change labels:\n",
    "func = lambda ddb: \"nkpt: %s, tsmear: %.2f\" % (\n",
    "    ddb.header[\"nkpt\"], ddb.header[\"tsmear\"])\n",
    "\n",
    "robot.remap_labels(func)\n",
    "robot"
   ]
  },
  {
   "cell_type": "markdown",
   "metadata": {
    "slideshow": {
     "slide_type": "subslide"
    }
   },
   "source": [
    "<!-- We are usually interested in the convergence behavior with respect to one or two parameters of \n",
    "the calculations.-->\n",
    "\n",
    "#### Now we can build a dataframe with the most important parameters:"
   ]
  },
  {
   "cell_type": "code",
   "execution_count": 17,
   "metadata": {
    "slideshow": {
     "slide_type": "-"
    }
   },
   "outputs": [
    {
     "data": {
      "text/html": [
       "<div>\n",
       "<style scoped>\n",
       "    .dataframe tbody tr th:only-of-type {\n",
       "        vertical-align: middle;\n",
       "    }\n",
       "\n",
       "    .dataframe tbody tr th {\n",
       "        vertical-align: top;\n",
       "    }\n",
       "\n",
       "    .dataframe thead th {\n",
       "        text-align: right;\n",
       "    }\n",
       "</style>\n",
       "<table border=\"1\" class=\"dataframe\">\n",
       "  <thead>\n",
       "    <tr style=\"text-align: right;\">\n",
       "      <th></th>\n",
       "      <th>nkpt</th>\n",
       "      <th>nsppol</th>\n",
       "      <th>ecut</th>\n",
       "      <th>tsmear</th>\n",
       "      <th>occopt</th>\n",
       "      <th>ixc</th>\n",
       "      <th>nband</th>\n",
       "      <th>usepaw</th>\n",
       "    </tr>\n",
       "  </thead>\n",
       "  <tbody>\n",
       "    <tr>\n",
       "      <th>nkpt: 256, tsmear: 0.01</th>\n",
       "      <td>256</td>\n",
       "      <td>1</td>\n",
       "      <td>35.0</td>\n",
       "      <td>0.01</td>\n",
       "      <td>4</td>\n",
       "      <td>1</td>\n",
       "      <td>8</td>\n",
       "      <td>0</td>\n",
       "    </tr>\n",
       "    <tr>\n",
       "      <th>nkpt: 256, tsmear: 0.04</th>\n",
       "      <td>256</td>\n",
       "      <td>1</td>\n",
       "      <td>35.0</td>\n",
       "      <td>0.04</td>\n",
       "      <td>4</td>\n",
       "      <td>1</td>\n",
       "      <td>8</td>\n",
       "      <td>0</td>\n",
       "    </tr>\n",
       "    <tr>\n",
       "      <th>nkpt: 864, tsmear: 0.01</th>\n",
       "      <td>864</td>\n",
       "      <td>1</td>\n",
       "      <td>35.0</td>\n",
       "      <td>0.01</td>\n",
       "      <td>4</td>\n",
       "      <td>1</td>\n",
       "      <td>8</td>\n",
       "      <td>0</td>\n",
       "    </tr>\n",
       "    <tr>\n",
       "      <th>nkpt: 864, tsmear: 0.04</th>\n",
       "      <td>864</td>\n",
       "      <td>1</td>\n",
       "      <td>35.0</td>\n",
       "      <td>0.04</td>\n",
       "      <td>4</td>\n",
       "      <td>1</td>\n",
       "      <td>8</td>\n",
       "      <td>0</td>\n",
       "    </tr>\n",
       "  </tbody>\n",
       "</table>\n",
       "</div>"
      ],
      "text/plain": [
       "                         nkpt  nsppol  ecut  tsmear  occopt  ixc  nband  \\\n",
       "nkpt: 256, tsmear: 0.01   256       1  35.0    0.01       4    1      8   \n",
       "nkpt: 256, tsmear: 0.04   256       1  35.0    0.04       4    1      8   \n",
       "nkpt: 864, tsmear: 0.01   864       1  35.0    0.01       4    1      8   \n",
       "nkpt: 864, tsmear: 0.04   864       1  35.0    0.04       4    1      8   \n",
       "\n",
       "                         usepaw  \n",
       "nkpt: 256, tsmear: 0.01       0  \n",
       "nkpt: 256, tsmear: 0.04       0  \n",
       "nkpt: 864, tsmear: 0.01       0  \n",
       "nkpt: 864, tsmear: 0.04       0  "
      ]
     },
     "execution_count": 17,
     "metadata": {},
     "output_type": "execute_result"
    }
   ],
   "source": [
    "robot.get_params_dataframe()"
   ]
  },
  {
   "cell_type": "markdown",
   "metadata": {
    "slideshow": {
     "slide_type": "-"
    }
   },
   "source": [
    "#### and check that all DDBs have been computed with the same crystalline structure:"
   ]
  },
  {
   "cell_type": "code",
   "execution_count": 18,
   "metadata": {
    "slideshow": {
     "slide_type": "-"
    }
   },
   "outputs": [
    {
     "data": {
      "text/html": [
       "<div>\n",
       "<style scoped>\n",
       "    .dataframe tbody tr th:only-of-type {\n",
       "        vertical-align: middle;\n",
       "    }\n",
       "\n",
       "    .dataframe tbody tr th {\n",
       "        vertical-align: top;\n",
       "    }\n",
       "\n",
       "    .dataframe thead th {\n",
       "        text-align: right;\n",
       "    }\n",
       "</style>\n",
       "<table border=\"1\" class=\"dataframe\">\n",
       "  <thead>\n",
       "    <tr style=\"text-align: right;\">\n",
       "      <th></th>\n",
       "      <th>formula</th>\n",
       "      <th>natom</th>\n",
       "      <th>alpha</th>\n",
       "      <th>beta</th>\n",
       "      <th>gamma</th>\n",
       "      <th>a</th>\n",
       "      <th>b</th>\n",
       "      <th>c</th>\n",
       "      <th>volume</th>\n",
       "      <th>abispg_num</th>\n",
       "      <th>spglib_symb</th>\n",
       "      <th>spglib_num</th>\n",
       "      <th>spglib_lattice_type</th>\n",
       "    </tr>\n",
       "  </thead>\n",
       "  <tbody>\n",
       "    <tr>\n",
       "      <th>nkpt: 256, tsmear: 0.01</th>\n",
       "      <td>Mg1 B2</td>\n",
       "      <td>3</td>\n",
       "      <td>90.0</td>\n",
       "      <td>90.0</td>\n",
       "      <td>120.0</td>\n",
       "      <td>3.086</td>\n",
       "      <td>3.086</td>\n",
       "      <td>3.523</td>\n",
       "      <td>29.055953</td>\n",
       "      <td>0</td>\n",
       "      <td>P6/mmm</td>\n",
       "      <td>191</td>\n",
       "      <td>hexagonal</td>\n",
       "    </tr>\n",
       "    <tr>\n",
       "      <th>nkpt: 256, tsmear: 0.04</th>\n",
       "      <td>Mg1 B2</td>\n",
       "      <td>3</td>\n",
       "      <td>90.0</td>\n",
       "      <td>90.0</td>\n",
       "      <td>120.0</td>\n",
       "      <td>3.086</td>\n",
       "      <td>3.086</td>\n",
       "      <td>3.523</td>\n",
       "      <td>29.055953</td>\n",
       "      <td>0</td>\n",
       "      <td>P6/mmm</td>\n",
       "      <td>191</td>\n",
       "      <td>hexagonal</td>\n",
       "    </tr>\n",
       "    <tr>\n",
       "      <th>nkpt: 864, tsmear: 0.01</th>\n",
       "      <td>Mg1 B2</td>\n",
       "      <td>3</td>\n",
       "      <td>90.0</td>\n",
       "      <td>90.0</td>\n",
       "      <td>120.0</td>\n",
       "      <td>3.086</td>\n",
       "      <td>3.086</td>\n",
       "      <td>3.523</td>\n",
       "      <td>29.055953</td>\n",
       "      <td>0</td>\n",
       "      <td>P6/mmm</td>\n",
       "      <td>191</td>\n",
       "      <td>hexagonal</td>\n",
       "    </tr>\n",
       "    <tr>\n",
       "      <th>nkpt: 864, tsmear: 0.04</th>\n",
       "      <td>Mg1 B2</td>\n",
       "      <td>3</td>\n",
       "      <td>90.0</td>\n",
       "      <td>90.0</td>\n",
       "      <td>120.0</td>\n",
       "      <td>3.086</td>\n",
       "      <td>3.086</td>\n",
       "      <td>3.523</td>\n",
       "      <td>29.055953</td>\n",
       "      <td>0</td>\n",
       "      <td>P6/mmm</td>\n",
       "      <td>191</td>\n",
       "      <td>hexagonal</td>\n",
       "    </tr>\n",
       "  </tbody>\n",
       "</table>\n",
       "</div>"
      ],
      "text/plain": [
       "                        formula  natom  alpha  beta  gamma      a      b  \\\n",
       "nkpt: 256, tsmear: 0.01  Mg1 B2      3   90.0  90.0  120.0  3.086  3.086   \n",
       "nkpt: 256, tsmear: 0.04  Mg1 B2      3   90.0  90.0  120.0  3.086  3.086   \n",
       "nkpt: 864, tsmear: 0.01  Mg1 B2      3   90.0  90.0  120.0  3.086  3.086   \n",
       "nkpt: 864, tsmear: 0.04  Mg1 B2      3   90.0  90.0  120.0  3.086  3.086   \n",
       "\n",
       "                             c     volume  abispg_num spglib_symb  spglib_num  \\\n",
       "nkpt: 256, tsmear: 0.01  3.523  29.055953           0      P6/mmm         191   \n",
       "nkpt: 256, tsmear: 0.04  3.523  29.055953           0      P6/mmm         191   \n",
       "nkpt: 864, tsmear: 0.01  3.523  29.055953           0      P6/mmm         191   \n",
       "nkpt: 864, tsmear: 0.04  3.523  29.055953           0      P6/mmm         191   \n",
       "\n",
       "                        spglib_lattice_type  \n",
       "nkpt: 256, tsmear: 0.01           hexagonal  \n",
       "nkpt: 256, tsmear: 0.04           hexagonal  \n",
       "nkpt: 864, tsmear: 0.01           hexagonal  \n",
       "nkpt: 864, tsmear: 0.04           hexagonal  "
      ]
     },
     "execution_count": 18,
     "metadata": {},
     "output_type": "execute_result"
    }
   ],
   "source": [
    "robot.get_lattice_dataframe()"
   ]
  },
  {
   "cell_type": "markdown",
   "metadata": {
    "slideshow": {
     "slide_type": "subslide"
    }
   },
   "source": [
    "* Dataframes can be exported to different formats: CSV, $Latex$, JSON, Excel, ...\n",
    "* High-level plotting interface provided by [seaborn](https://seaborn.pydata.org/)\n",
    "* Explore your *DataFrames* inside *jupyter* with [qgrid](https://github.com/quantopian/qgrid)\n",
    "* Use [ene_table.to_clipboard()](https://pandas.pydata.org/pandas-docs/stable/reference/api/pandas.DataFrame.to_clipboard.html#pandas-dataframe-to-clipboard) \n",
    "to copy to clipboard and paste into spreadsheet editor"
   ]
  },
  {
   "cell_type": "markdown",
   "metadata": {
    "slideshow": {
     "slide_type": "subslide"
    }
   },
   "source": [
    "#### To analyze the effect of the k-sampling and of the smearing on the vibrational properties:"
   ]
  },
  {
   "cell_type": "code",
   "execution_count": 19,
   "metadata": {
    "slideshow": {
     "slide_type": "-"
    }
   },
   "outputs": [
    {
     "data": {
      "image/png": "[encoded data removed]",
      "text/plain": [
       "<Figure size 432x288 with 4 Axes>"
      ]
     },
     "metadata": {
      "needs_background": "light"
     },
     "output_type": "display_data"
    }
   ],
   "source": [
    "# Invoke anaddb and store results\n",
    "r = robot.anaget_phonon_plotters(nqsmall=2)\n",
    "\n",
    "r.phbands_plotter.gridplot_with_hue(\"tsmear\", with_dos=True);"
   ]
  },
  {
   "cell_type": "markdown",
   "metadata": {
    "slideshow": {
     "slide_type": "subslide"
    }
   },
   "source": [
    "#### Python function to visualize electronic and vibrational properties downloaded from the MP database:"
   ]
  },
  {
   "cell_type": "code",
   "execution_count": 20,
   "metadata": {
    "slideshow": {
     "slide_type": "-"
    }
   },
   "outputs": [],
   "source": [
    "def plot_electrons_and_phonons(mpids):\n",
    "    # Construct AbiPy ebands from mpids\n",
    "    ebands_list = [abilab.ElectronBands.from_mpid(mpid) for mpid in mpids]\n",
    "\n",
    "    # Get DDB files from the MP website and run anaddb to get phonon bands.\n",
    "    phbands_list = []\n",
    "    for i, mpid in enumerate(mpids):\n",
    "        ddb = abilab.DdbFile.from_mpid(mpid)\n",
    "        # Call anaddb to compute phonon bands\n",
    "        phbst, _ = ddb.anaget_phbst_and_phdos_files(nqsmall=0)\n",
    "        phbands_list.append(phbst.phbands)\n",
    "        phbst.close()\n",
    "\n",
    "    # Build matplotlib grid. The figure has (len(mpids), 2) subplots\n",
    "    nrows, ncols = len(mpids), 2\n",
    "    ax_mat, fig, plt = abilab.get_axarray_fig_plt(None, nrows=nrows, ncols=ncols,\n",
    "                                                  sharex=False, sharey=False, \n",
    "                                                  squeeze=False)\n",
    "    \n",
    "    for i, (ebands, phbands) in enumerate(zip(ebands_list, phbands_list)):\n",
    "        ebands.plot(ax=ax_mat[i, 0], with_gaps=True, ylims=(-5, 10), \n",
    "                    max_phfreq=phbands.maxfreq, show=False)\n",
    "        phbands.plot(ax=ax_mat[i, 1], show=False)\n",
    "        \n",
    "        # Hide labels\n",
    "        ax_mat[i, 1].yaxis.label.set_visible(False)\n",
    "        if i != len(ebands_list) - 1:\n",
    "            for ax in ax_mat[i]: ax.xaxis.label.set_visible(False)\n",
    "\n",
    "    return fig"
   ]
  },
  {
   "cell_type": "code",
   "execution_count": 21,
   "metadata": {
    "slideshow": {
     "slide_type": "subslide"
    }
   },
   "outputs": [
    {
     "data": {
      "image/png": "[encoded data removed]",
      "text/plain": [
       "<Figure size 432x288 with 4 Axes>"
      ]
     },
     "metadata": {
      "needs_background": "light"
     },
     "output_type": "display_data"
    }
   ],
   "source": [
    "plot_electrons_and_phonons(mpids=[\"mp-149\", \"mp-66\"]); # Si and Diamond"
   ]
  },
  {
   "cell_type": "markdown",
   "metadata": {
    "slideshow": {
     "slide_type": "-"
    }
   },
   "source": [
    "##### Qualitative analysis of possible e-ph scattering channels with less than 20 lines of code!"
   ]
  },
  {
   "cell_type": "markdown",
   "metadata": {
    "slideshow": {
     "slide_type": "skip"
    }
   },
   "source": [
    "## *AbinitInput* object \n",
    "\n",
    "Programmatic interface to generate input files:\n",
    "\n",
    "* *Dict-like* object storing ABINIT variables \n",
    "* Methods to set multiple variables (*e.g.* **k**-path from *structure*)\n",
    "* Factory functions to generate input files with minimal effort\n",
    "\n",
    "Can invoke ABINIT to get important parameters such as:\n",
    "\n",
    "  * list of **k**-points in the IBZ\n",
    "  * list of irreducible DFPT perturbations\n",
    "  * list of possible configurations for MPI jobs (*npkpt*, *npfft*, *npband* …)\n",
    "     \n",
    "#### To build an input, we need a *structure* and a list of *pseudos*:"
   ]
  },
  {
   "cell_type": "markdown",
   "metadata": {
    "slideshow": {
     "slide_type": "subslide"
    }
   },
   "source": [
    "### Input file for band structure calculation + DOS\n",
    "\n",
    "1. GS run to get the density \n",
    "2. NSCF run along high-symmetry **k**-path\n",
    "3. NSCF run with **k**-mesh to compute the DOS"
   ]
  },
  {
   "cell_type": "code",
   "execution_count": 22,
   "metadata": {
    "slideshow": {
     "slide_type": "-"
    }
   },
   "outputs": [
    {
     "data": {
      "text/html": [
       "<div>\n",
       "<style scoped>\n",
       "    .dataframe tbody tr th:only-of-type {\n",
       "        vertical-align: middle;\n",
       "    }\n",
       "\n",
       "    .dataframe tbody tr th {\n",
       "        vertical-align: top;\n",
       "    }\n",
       "\n",
       "    .dataframe thead th {\n",
       "        text-align: right;\n",
       "    }\n",
       "</style>\n",
       "<table border=\"1\" class=\"dataframe\">\n",
       "  <thead>\n",
       "    <tr style=\"text-align: right;\">\n",
       "      <th></th>\n",
       "      <th>kptopt</th>\n",
       "      <th>iscf</th>\n",
       "      <th>ngkpt</th>\n",
       "    </tr>\n",
       "  </thead>\n",
       "  <tbody>\n",
       "    <tr>\n",
       "      <th>dataset 0</th>\n",
       "      <td>1</td>\n",
       "      <td>None</td>\n",
       "      <td>[8, 8, 8]</td>\n",
       "    </tr>\n",
       "    <tr>\n",
       "      <th>dataset 1</th>\n",
       "      <td>-11</td>\n",
       "      <td>-2</td>\n",
       "      <td>None</td>\n",
       "    </tr>\n",
       "    <tr>\n",
       "      <th>dataset 2</th>\n",
       "      <td>1</td>\n",
       "      <td>-2</td>\n",
       "      <td>[14, 14, 14]</td>\n",
       "    </tr>\n",
       "  </tbody>\n",
       "</table>\n",
       "</div>"
      ],
      "text/plain": [
       "           kptopt  iscf         ngkpt\n",
       "dataset 0       1  None     [8, 8, 8]\n",
       "dataset 1     -11    -2          None\n",
       "dataset 2       1    -2  [14, 14, 14]"
      ]
     },
     "execution_count": 22,
     "metadata": {},
     "output_type": "execute_result"
    }
   ],
   "source": [
    "multi = abilab.ebands_input(structure=\"si.cif\", \n",
    "                            pseudos=\"14si.pspnc\",\n",
    "                            ecut=8, \n",
    "                            spin_mode=\"unpolarized\", \n",
    "                            smearing=None, \n",
    "                            dos_kppa=5000)\n",
    "\n",
    "multi.get_vars_dataframe(\"kptopt\", \"iscf\", \"ngkpt\")"
   ]
  },
  {
   "cell_type": "markdown",
   "metadata": {
    "slideshow": {
     "slide_type": "-"
    }
   },
   "source": [
    "#### To build an input for SCF+NSCF run with (relaxed) structure from the materials project database:\n",
    "<p></p>\n",
    "\n",
    "        abinp.py ebands mp-149          "
   ]
  },
  {
   "cell_type": "markdown",
   "metadata": {
    "slideshow": {
     "slide_type": "subslide"
    }
   },
   "source": [
    "#### Inside the notebook, one gets the HTML representation with links to the documentation:"
   ]
  },
  {
   "cell_type": "code",
   "execution_count": 23,
   "metadata": {
    "slideshow": {
     "slide_type": "-"
    }
   },
   "outputs": [
    {
     "data": {
      "text/html": [
       "############################################################################################<br>#                                       SECTION: basic                                      <br>############################################################################################<br> <a href=\"https://docs.abinit.org/variables/basic#ecut\" target=\"_blank\">ecut</a> 8<br> <a href=\"https://docs.abinit.org/variables/basic#ngkpt\" target=\"_blank\">ngkpt</a> 8 8 8<br> <a href=\"https://docs.abinit.org/variables/basic#shiftk\" target=\"_blank\">shiftk</a>    0.5    0.5    0.5<br> <a href=\"https://docs.abinit.org/variables/basic#nshiftk\" target=\"_blank\">nshiftk</a> 1<br> <a href=\"https://docs.abinit.org/variables/basic#kptopt\" target=\"_blank\">kptopt</a> 1<br> <a href=\"https://docs.abinit.org/variables/basic#nsppol\" target=\"_blank\">nsppol</a> 1<br> <a href=\"https://docs.abinit.org/variables/basic#nband\" target=\"_blank\">nband</a> 8<br> <a href=\"https://docs.abinit.org/variables/basic#tolvrs\" target=\"_blank\">tolvrs</a> 1e-08<br>############################################################################################<br>#                                      SECTION: gstate                                      <br>############################################################################################<br> <a href=\"https://docs.abinit.org/variables/gstate#chksymbreak\" target=\"_blank\">chksymbreak</a> 0<br> <a href=\"https://docs.abinit.org/variables/gstate#nspinor\" target=\"_blank\">nspinor</a> 1<br> <a href=\"https://docs.abinit.org/variables/gstate#nspden\" target=\"_blank\">nspden</a> 1<br> <a href=\"https://docs.abinit.org/variables/gstate#charge\" target=\"_blank\">charge</a> 0.0<br>############################################################################################<br>#                                         STRUCTURE                                         <br>############################################################################################<br> <a href=\"https://docs.abinit.org/variables/basic#natom\" target=\"_blank\">natom</a> 2<br> <a href=\"https://docs.abinit.org/variables/basic#ntypat\" target=\"_blank\">ntypat</a> 1<br> <a href=\"https://docs.abinit.org/variables/basic#typat\" target=\"_blank\">typat</a> 1 1<br> <a href=\"https://docs.abinit.org/variables/basic#znucl\" target=\"_blank\">znucl</a> 14<br> <a href=\"https://docs.abinit.org/variables/basic#xred\" target=\"_blank\">xred</a><br>    0.0000000000    0.0000000000    0.0000000000<br>    0.2500000000    0.2500000000    0.2500000000<br> <a href=\"https://docs.abinit.org/variables/basic#acell\" target=\"_blank\">acell</a>    1.0    1.0    1.0<br> <a href=\"https://docs.abinit.org/variables/basic#rprim\" target=\"_blank\">rprim</a><br>    6.3285005272    0.0000000000    3.6537614829<br>    2.1095001757    5.9665675167    3.6537614829<br>    0.0000000000    0.0000000000    7.3075229659"
      ],
      "text/plain": [
       "<AbinitInput at 112256169072>"
      ]
     },
     "execution_count": 23,
     "metadata": {},
     "output_type": "execute_result"
    }
   ],
   "source": [
    "multi[0]"
   ]
  },
  {
   "cell_type": "markdown",
   "metadata": {
    "slideshow": {
     "slide_type": "subslide"
    }
   },
   "source": [
    "#### $GW$ calculations with the plasmon-pole model. The calculation consists of:\n",
    "\n",
    "1. GS run to compute the density \n",
    "2. nscf-run to produce a WFK file with *nscf_nband* states\n",
    "3. Input files to compute the screening ($W$) and the self-energy ($\\Sigma^{e-e} = GW$)"
   ]
  },
  {
   "cell_type": "code",
   "execution_count": 24,
   "metadata": {
    "scrolled": false,
    "slideshow": {
     "slide_type": "-"
    }
   },
   "outputs": [
    {
     "data": {
      "text/html": [
       "<div>\n",
       "<style scoped>\n",
       "    .dataframe tbody tr th:only-of-type {\n",
       "        vertical-align: middle;\n",
       "    }\n",
       "\n",
       "    .dataframe tbody tr th {\n",
       "        vertical-align: top;\n",
       "    }\n",
       "\n",
       "    .dataframe thead th {\n",
       "        text-align: right;\n",
       "    }\n",
       "</style>\n",
       "<table border=\"1\" class=\"dataframe\">\n",
       "  <thead>\n",
       "    <tr style=\"text-align: right;\">\n",
       "      <th></th>\n",
       "      <th>optdriver</th>\n",
       "      <th>ngkpt</th>\n",
       "      <th>nband</th>\n",
       "      <th>ecuteps</th>\n",
       "      <th>ecutsigx</th>\n",
       "    </tr>\n",
       "  </thead>\n",
       "  <tbody>\n",
       "    <tr>\n",
       "      <th>dataset 0</th>\n",
       "      <td>None</td>\n",
       "      <td>[8, 8, 8]</td>\n",
       "      <td>14</td>\n",
       "      <td>None</td>\n",
       "      <td>None</td>\n",
       "    </tr>\n",
       "    <tr>\n",
       "      <th>dataset 1</th>\n",
       "      <td>None</td>\n",
       "      <td>[8, 8, 8]</td>\n",
       "      <td>50</td>\n",
       "      <td>None</td>\n",
       "      <td>None</td>\n",
       "    </tr>\n",
       "    <tr>\n",
       "      <th>dataset 2</th>\n",
       "      <td>3</td>\n",
       "      <td>[8, 8, 8]</td>\n",
       "      <td>50</td>\n",
       "      <td>2</td>\n",
       "      <td>None</td>\n",
       "    </tr>\n",
       "    <tr>\n",
       "      <th>dataset 3</th>\n",
       "      <td>4</td>\n",
       "      <td>[8, 8, 8]</td>\n",
       "      <td>50</td>\n",
       "      <td>2</td>\n",
       "      <td>4</td>\n",
       "    </tr>\n",
       "  </tbody>\n",
       "</table>\n",
       "</div>"
      ],
      "text/plain": [
       "          optdriver      ngkpt  nband ecuteps ecutsigx\n",
       "dataset 0      None  [8, 8, 8]     14    None     None\n",
       "dataset 1      None  [8, 8, 8]     50    None     None\n",
       "dataset 2         3  [8, 8, 8]     50       2     None\n",
       "dataset 3         4  [8, 8, 8]     50       2        4"
      ]
     },
     "execution_count": 24,
     "metadata": {},
     "output_type": "execute_result"
    }
   ],
   "source": [
    "multi = abilab.g0w0_with_ppmodel_inputs(\n",
    "    structure=\"si.cif\", pseudos=\"14si.pspnc\", \n",
    "    kppa=1000, nscf_nband=50, ecuteps=2, ecutsigx=4, ecut=8, \n",
    "    spin_mode=\"unpolarized\")\n",
    "\n",
    "multi.get_vars_dataframe(\"optdriver\", \"ngkpt\", \"nband\", \"ecuteps\", \"ecutsigx\")"
   ]
  },
  {
   "cell_type": "markdown",
   "metadata": {
    "slideshow": {
     "slide_type": "-"
    }
   },
   "source": [
    "* *nscf_nband*  ➝ number of bands in $GW$ (occ + empty)\n",
    "* *ecuteps* ➝ planewave cutoff for $W_{G, G'}$ in Hartree \n",
    "* *ecutsigx* ➝ cutoff energy for the exchange part $\\Sigma_x$\n",
    "* *kppa* ➝ k-point sampling (#kpts per reciprocal atom)"
   ]
  },
  {
   "cell_type": "code",
   "execution_count": 25,
   "metadata": {
    "slideshow": {
     "slide_type": "subslide"
    }
   },
   "outputs": [],
   "source": [
    "def make_scf_input(ecut=2, ngkpt=(4, 4, 4)):\n",
    "    \"\"\"\n",
    "    Generate an `AbinitInput` to perform GS calculation for AlAs.\n",
    "\n",
    "    Args:\n",
    "        ecut: Cutoff energy in Ha.\n",
    "        ngkpt: k-mesh divisions\n",
    "\n",
    "    Return:\n",
    "        `AbinitInput` object\n",
    "    \"\"\"\n",
    "    # Initialize the AlAs structure from an internal database. Use the pseudos shipped with AbiPy.\n",
    "    gs_inp = abilab.AbinitInput(structure=\"AlAs.cif\",\n",
    "                                pseudos=[\"13al.pspnc\", \"33as.pspnc\"])\n",
    "\n",
    "    # Set the value of the Abinit variables needed for GS runs.\n",
    "    gs_inp.set_vars(\n",
    "        nband=4,\n",
    "        ecut=ecut,\n",
    "        ngkpt=ngkpt,\n",
    "        nshiftk=4,\n",
    "        shiftk=[0.0, 0.0, 0.5,   # This gives the usual fcc Monkhorst-Pack grid\n",
    "                0.0, 0.5, 0.0,\n",
    "                0.5, 0.0, 0.0,\n",
    "                0.5, 0.5, 0.5],\n",
    "        tolvrs=1.0e-10,\n",
    "    )\n",
    "\n",
    "    return gs_inp"
   ]
  },
  {
   "cell_type": "code",
   "execution_count": 26,
   "metadata": {
    "slideshow": {
     "slide_type": "subslide"
    }
   },
   "outputs": [],
   "source": [
    "def build_flow_alas_phonons():\n",
    "    \"\"\"\n",
    "    Build and return a Flow to compute the dynamical matrix on a (2, 2, 2) qmesh\n",
    "    as well as DDK and Born effective charges.\n",
    "    The final DDB with all perturbations will be merged automatically and placed\n",
    "    in the Flow `outdir` directory.\n",
    "    \"\"\"\n",
    "    from abipy import flowtk\n",
    "    scf_input = make_scf_input(ecut=6, ngkpt=(4, 4, 4))\n",
    "    return flowtk.PhononFlow.from_scf_input(\"flow_alas_phonons\", scf_input,\n",
    "                                            ph_ngqpt=(2, 2, 2), with_becs=True)"
   ]
  },
  {
   "cell_type": "markdown",
   "metadata": {
    "slideshow": {
     "slide_type": "subslide"
    }
   },
   "source": [
    "#####  Abipy will call Abinit to get the list of DFPT perturbations and…"
   ]
  },
  {
   "cell_type": "code",
   "execution_count": 27,
   "metadata": {
    "slideshow": {
     "slide_type": "-"
    }
   },
   "outputs": [
    {
     "data": {
      "image/svg+xml": [
       "<?xml version=\"1.0\" encoding=\"UTF-8\" standalone=\"no\"?>\n",
       "<!DOCTYPE svg PUBLIC \"-//W3C//DTD SVG 1.1//EN\"\n",
       " \"http://www.w3.org/Graphics/SVG/1.1/DTD/svg11.dtd\">\n",
       "<!-- Generated by graphviz version 2.40.1 (20161225.0304)\n",
       " -->\n",
       "<!-- Title: flow Pages: 1 -->\n",
       "<svg width=\"483pt\" height=\"356pt\"\n",
       " viewBox=\"0.00 0.00 483.00 356.00\" xmlns=\"http://www.w3.org/2000/svg\" xmlns:xlink=\"http://www.w3.org/1999/xlink\">\n",
       "<g id=\"graph0\" class=\"graph\" transform=\"scale(1 1) rotate(0) translate(4 330)\">\n",
       "<title>flow</title>\n",
       "<polygon fill=\"#ffffff\" stroke=\"transparent\" points=\"-4,26 -4,-330 479,-330 479,26 -4,26\"/>\n",
       "<text text-anchor=\"start\" x=\"78.0039\" y=\"15.2\" font-family=\"Times,serif\" font-size=\"14.00\" fill=\"#000000\">PhononFlow, node_id=758, workdir=flow_alas_phonons</text>\n",
       "<g id=\"clust1\" class=\"cluster\">\n",
       "<title>clusterw0</title>\n",
       "<path fill=\"#e0eeee\" stroke=\"#000000\" d=\"M205.3218,-148.8079C205.3218,-148.8079 257.3218,-148.8079 257.3218,-148.8079 263.3218,-148.8079 269.3218,-154.8079 269.3218,-160.8079 269.3218,-160.8079 269.3218,-210.8079 269.3218,-210.8079 269.3218,-216.8079 263.3218,-222.8079 257.3218,-222.8079 257.3218,-222.8079 205.3218,-222.8079 205.3218,-222.8079 199.3218,-222.8079 193.3218,-216.8079 193.3218,-210.8079 193.3218,-210.8079 193.3218,-160.8079 193.3218,-160.8079 193.3218,-154.8079 199.3218,-148.8079 205.3218,-148.8079\"/>\n",
       "<text text-anchor=\"middle\" x=\"231.3218\" y=\"-207.6079\" font-family=\"Times,serif\" font-size=\"14.00\" fill=\"#000000\">Work (w0)</text>\n",
       "</g>\n",
       "<g id=\"clust2\" class=\"cluster\">\n",
       "<title>clusterw1</title>\n",
       "<path fill=\"#e0eeee\" stroke=\"#000000\" d=\"M292.3543,-33.4223C292.3543,-33.4223 463.3543,-33.4223 463.3543,-33.4223 469.3543,-33.4223 475.3543,-39.4223 475.3543,-45.4223 475.3543,-45.4223 475.3543,-196.4223 475.3543,-196.4223 475.3543,-202.4223 469.3543,-208.4223 463.3543,-208.4223 463.3543,-208.4223 292.3543,-208.4223 292.3543,-208.4223 286.3543,-208.4223 280.3543,-202.4223 280.3543,-196.4223 280.3543,-196.4223 280.3543,-45.4223 280.3543,-45.4223 280.3543,-39.4223 286.3543,-33.4223 292.3543,-33.4223\"/>\n",
       "<text text-anchor=\"middle\" x=\"377.8543\" y=\"-193.2223\" font-family=\"Times,serif\" font-size=\"14.00\" fill=\"#000000\">BecWork (w1)</text>\n",
       "</g>\n",
       "<g id=\"clust3\" class=\"cluster\">\n",
       "<title>clusterw2</title>\n",
       "<path fill=\"#e0eeee\" stroke=\"#000000\" d=\"M82.7004,-.0589C82.7004,-.0589 253.7004,-.0589 253.7004,-.0589 259.7004,-.0589 265.7004,-6.0589 265.7004,-12.0589 265.7004,-12.0589 265.7004,-125.0589 265.7004,-125.0589 265.7004,-131.0589 259.7004,-137.0589 253.7004,-137.0589 253.7004,-137.0589 82.7004,-137.0589 82.7004,-137.0589 76.7004,-137.0589 70.7004,-131.0589 70.7004,-125.0589 70.7004,-125.0589 70.7004,-12.0589 70.7004,-12.0589 70.7004,-6.0589 76.7004,-.0589 82.7004,-.0589\"/>\n",
       "<text text-anchor=\"middle\" x=\"168.2004\" y=\"-121.8589\" font-family=\"Times,serif\" font-size=\"14.00\" fill=\"#000000\">PhononWork (w2)</text>\n",
       "</g>\n",
       "<g id=\"clust4\" class=\"cluster\">\n",
       "<title>clusterw3</title>\n",
       "<path fill=\"#e0eeee\" stroke=\"#000000\" d=\"M11.8633,-213.2349C11.8633,-213.2349 167.8633,-213.2349 167.8633,-213.2349 173.8633,-213.2349 179.8633,-219.2349 179.8633,-225.2349 179.8633,-225.2349 179.8633,-314.2349 179.8633,-314.2349 179.8633,-320.2349 173.8633,-326.2349 167.8633,-326.2349 167.8633,-326.2349 11.8633,-326.2349 11.8633,-326.2349 5.8633,-326.2349 -.1367,-320.2349 -.1367,-314.2349 -.1367,-314.2349 -.1367,-225.2349 -.1367,-225.2349 -.1367,-219.2349 5.8633,-213.2349 11.8633,-213.2349\"/>\n",
       "<text text-anchor=\"middle\" x=\"89.8633\" y=\"-311.0349\" font-family=\"Times,serif\" font-size=\"14.00\" fill=\"#000000\">PhononWork (w3)</text>\n",
       "</g>\n",
       "<!-- w0_t0 -->\n",
       "<g id=\"node1\" class=\"node\">\n",
       "<title>w0_t0</title>\n",
       "<ellipse fill=\"#ff0000\" stroke=\"#ff0000\" cx=\"231.1824\" cy=\"-174.6091\" rx=\"27.8878\" ry=\"18\"/>\n",
       "<text text-anchor=\"middle\" x=\"231.1824\" y=\"-176.2091\" font-family=\"Times,serif\" font-size=\"8.00\" fill=\"#000000\">w0_t0</text>\n",
       "<text text-anchor=\"middle\" x=\"231.1824\" y=\"-168.2091\" font-family=\"Times,serif\" font-size=\"8.00\" fill=\"#000000\">ScfTask</text>\n",
       "</g>\n",
       "<!-- w1_t0 -->\n",
       "<g id=\"node2\" class=\"node\">\n",
       "<title>w1_t0</title>\n",
       "<ellipse fill=\"#00cccc\" stroke=\"#00cccc\" cx=\"388.9711\" cy=\"-58.9659\" rx=\"30.0647\" ry=\"18\"/>\n",
       "<text text-anchor=\"middle\" x=\"388.9711\" y=\"-60.5659\" font-family=\"Times,serif\" font-size=\"8.00\" fill=\"#000000\">w1_t0</text>\n",
       "<text text-anchor=\"middle\" x=\"388.9711\" y=\"-52.5659\" font-family=\"Times,serif\" font-size=\"8.00\" fill=\"#000000\">DdkTask</text>\n",
       "</g>\n",
       "<!-- w0_t0&#45;&gt;w1_t0 -->\n",
       "<g id=\"edge1\" class=\"edge\">\n",
       "<title>w0_t0&#45;&gt;w1_t0</title>\n",
       "<path fill=\"none\" stroke=\"#ff0000\" d=\"M249.9025,-160.8892C277.5113,-140.6547 329.3258,-102.6799 361.3211,-79.2305\"/>\n",
       "<polygon fill=\"#ff0000\" stroke=\"#ff0000\" points=\"363.7866,-81.763 369.7833,-73.0286 359.6486,-76.117 363.7866,-81.763\"/>\n",
       "<text text-anchor=\"middle\" x=\"290.0566\" y=\"-108.8599\" font-family=\"Times,serif\" font-size=\"14.00\" fill=\"#000000\">WFK</text>\n",
       "</g>\n",
       "<!-- w1_t1 -->\n",
       "<g id=\"node3\" class=\"node\">\n",
       "<title>w1_t1</title>\n",
       "<ellipse fill=\"#00cccc\" stroke=\"#00cccc\" cx=\"317.9492\" cy=\"-86.7379\" rx=\"30.0647\" ry=\"18\"/>\n",
       "<text text-anchor=\"middle\" x=\"317.9492\" y=\"-88.3379\" font-family=\"Times,serif\" font-size=\"8.00\" fill=\"#000000\">w1_t1</text>\n",
       "<text text-anchor=\"middle\" x=\"317.9492\" y=\"-80.3379\" font-family=\"Times,serif\" font-size=\"8.00\" fill=\"#000000\">DdkTask</text>\n",
       "</g>\n",
       "<!-- w0_t0&#45;&gt;w1_t1 -->\n",
       "<g id=\"edge2\" class=\"edge\">\n",
       "<title>w0_t0&#45;&gt;w1_t1</title>\n",
       "<path fill=\"none\" stroke=\"#ff0000\" d=\"M246.296,-159.3031C259.8151,-145.612 279.8211,-125.3512 295.2605,-109.7154\"/>\n",
       "<polygon fill=\"#ff0000\" stroke=\"#ff0000\" points=\"297.8888,-112.035 302.4245,-102.4602 292.9078,-107.1167 297.8888,-112.035\"/>\n",
       "<text text-anchor=\"middle\" x=\"255.2231\" y=\"-137.3092\" font-family=\"Times,serif\" font-size=\"14.00\" fill=\"#000000\">WFK</text>\n",
       "</g>\n",
       "<!-- w1_t2 -->\n",
       "<g id=\"node4\" class=\"node\">\n",
       "<title>w1_t2</title>\n",
       "<ellipse fill=\"#00cccc\" stroke=\"#00cccc\" cx=\"437.7179\" cy=\"-104.9464\" rx=\"30.0647\" ry=\"18\"/>\n",
       "<text text-anchor=\"middle\" x=\"437.7179\" y=\"-106.5464\" font-family=\"Times,serif\" font-size=\"8.00\" fill=\"#000000\">w1_t2</text>\n",
       "<text text-anchor=\"middle\" x=\"437.7179\" y=\"-98.5464\" font-family=\"Times,serif\" font-size=\"8.00\" fill=\"#000000\">DdkTask</text>\n",
       "</g>\n",
       "<!-- w0_t0&#45;&gt;w1_t2 -->\n",
       "<g id=\"edge3\" class=\"edge\">\n",
       "<title>w0_t0&#45;&gt;w1_t2</title>\n",
       "<path fill=\"none\" stroke=\"#ff0000\" d=\"M256.0954,-166.2062C292.4489,-153.9444 360.2299,-131.0825 401.9202,-117.0207\"/>\n",
       "<polygon fill=\"#ff0000\" stroke=\"#ff0000\" points=\"403.0574,-120.3309 411.4143,-113.8184 400.8201,-113.6981 403.0574,-120.3309\"/>\n",
       "<text text-anchor=\"middle\" x=\"344.563\" y=\"-144.4134\" font-family=\"Times,serif\" font-size=\"14.00\" fill=\"#000000\">WFK</text>\n",
       "</g>\n",
       "<!-- w1_t3 -->\n",
       "<g id=\"node5\" class=\"node\">\n",
       "<title>w1_t3</title>\n",
       "<ellipse fill=\"#7a7aff\" stroke=\"#7a7aff\" cx=\"323.9376\" cy=\"-131.6558\" rx=\"29.2677\" ry=\"18\"/>\n",
       "<text text-anchor=\"middle\" x=\"323.9376\" y=\"-133.2558\" font-family=\"Times,serif\" font-size=\"8.00\" fill=\"#000000\">w1_t3</text>\n",
       "<text text-anchor=\"middle\" x=\"323.9376\" y=\"-125.2558\" font-family=\"Times,serif\" font-size=\"8.00\" fill=\"#000000\">BecTask</text>\n",
       "</g>\n",
       "<!-- w0_t0&#45;&gt;w1_t3 -->\n",
       "<g id=\"edge4\" class=\"edge\">\n",
       "<title>w0_t0&#45;&gt;w1_t3</title>\n",
       "<path fill=\"none\" stroke=\"#ff0000\" d=\"M254.1106,-163.9914C265.2014,-158.8555 278.7201,-152.5952 290.8978,-146.9559\"/>\n",
       "<polygon fill=\"#ff0000\" stroke=\"#ff0000\" points=\"292.7012,-149.978 300.3047,-142.5998 289.7596,-143.626 292.7012,-149.978\"/>\n",
       "<text text-anchor=\"middle\" x=\"288.0594\" y=\"-158.2737\" font-family=\"Times,serif\" font-size=\"14.00\" fill=\"#000000\">WFK</text>\n",
       "</g>\n",
       "<!-- w1_t4 -->\n",
       "<g id=\"node6\" class=\"node\">\n",
       "<title>w1_t4</title>\n",
       "<ellipse fill=\"#7a7aff\" stroke=\"#7a7aff\" cx=\"401.5227\" cy=\"-160.0033\" rx=\"29.2677\" ry=\"18\"/>\n",
       "<text text-anchor=\"middle\" x=\"401.5227\" y=\"-161.6033\" font-family=\"Times,serif\" font-size=\"8.00\" fill=\"#000000\">w1_t4</text>\n",
       "<text text-anchor=\"middle\" x=\"401.5227\" y=\"-153.6033\" font-family=\"Times,serif\" font-size=\"8.00\" fill=\"#000000\">BecTask</text>\n",
       "</g>\n",
       "<!-- w0_t0&#45;&gt;w1_t4 -->\n",
       "<g id=\"edge5\" class=\"edge\">\n",
       "<title>w0_t0&#45;&gt;w1_t4</title>\n",
       "<path fill=\"none\" stroke=\"#ff0000\" d=\"M258.9296,-172.2299C287.0496,-169.8188 330.8014,-166.0673 362.4275,-163.3555\"/>\n",
       "<polygon fill=\"#ff0000\" stroke=\"#ff0000\" points=\"362.9835,-166.8208 372.6479,-162.4792 362.3854,-159.8464 362.9835,-166.8208\"/>\n",
       "<text text-anchor=\"middle\" x=\"326.2337\" y=\"-170.5927\" font-family=\"Times,serif\" font-size=\"14.00\" fill=\"#000000\">WFK</text>\n",
       "</g>\n",
       "<!-- w2_t0 -->\n",
       "<g id=\"node7\" class=\"node\">\n",
       "<title>w2_t0</title>\n",
       "<ellipse fill=\"#0096fa\" stroke=\"#0096fa\" cx=\"116.3901\" cy=\"-88.5604\" rx=\"37.3834\" ry=\"18\"/>\n",
       "<text text-anchor=\"middle\" x=\"116.3901\" y=\"-90.1604\" font-family=\"Times,serif\" font-size=\"8.00\" fill=\"#000000\">w2_t0</text>\n",
       "<text text-anchor=\"middle\" x=\"116.3901\" y=\"-82.1604\" font-family=\"Times,serif\" font-size=\"8.00\" fill=\"#000000\">PhononTask</text>\n",
       "</g>\n",
       "<!-- w0_t0&#45;&gt;w2_t0 -->\n",
       "<g id=\"edge6\" class=\"edge\">\n",
       "<title>w0_t0&#45;&gt;w2_t0</title>\n",
       "<path fill=\"none\" stroke=\"#ff0000\" d=\"M212.739,-160.7839C194.3874,-147.0274 165.9763,-125.7304 144.7537,-109.8219\"/>\n",
       "<polygon fill=\"#ff0000\" stroke=\"#ff0000\" points=\"146.8235,-106.9992 136.7226,-103.8018 142.6249,-112.6003 146.8235,-106.9992\"/>\n",
       "<text text-anchor=\"middle\" x=\"163.1912\" y=\"-138.1029\" font-family=\"Times,serif\" font-size=\"14.00\" fill=\"#000000\">WFK</text>\n",
       "</g>\n",
       "<!-- w2_t1 -->\n",
       "<g id=\"node8\" class=\"node\">\n",
       "<title>w2_t1</title>\n",
       "<ellipse fill=\"#0096fa\" stroke=\"#0096fa\" cx=\"115.7962\" cy=\"-37.55\" rx=\"37.3834\" ry=\"18\"/>\n",
       "<text text-anchor=\"middle\" x=\"115.7962\" y=\"-39.15\" font-family=\"Times,serif\" font-size=\"8.00\" fill=\"#000000\">w2_t1</text>\n",
       "<text text-anchor=\"middle\" x=\"115.7962\" y=\"-31.15\" font-family=\"Times,serif\" font-size=\"8.00\" fill=\"#000000\">PhononTask</text>\n",
       "</g>\n",
       "<!-- w0_t0&#45;&gt;w2_t1 -->\n",
       "<g id=\"edge7\" class=\"edge\">\n",
       "<title>w0_t0&#45;&gt;w2_t1</title>\n",
       "<path fill=\"none\" stroke=\"#ff0000\" d=\"M217.7203,-158.6184C197.7006,-134.8384 159.9227,-89.9648 136.4076,-62.0328\"/>\n",
       "<polygon fill=\"#ff0000\" stroke=\"#ff0000\" points=\"139.0095,-59.6888 129.8916,-54.2929 133.6545,-64.1971 139.0095,-59.6888\"/>\n",
       "<text text-anchor=\"middle\" x=\"192.6191\" y=\"-99.1256\" font-family=\"Times,serif\" font-size=\"14.00\" fill=\"#000000\">WFK</text>\n",
       "</g>\n",
       "<!-- w2_t2 -->\n",
       "<g id=\"node9\" class=\"node\">\n",
       "<title>w2_t2</title>\n",
       "<ellipse fill=\"#0096fa\" stroke=\"#0096fa\" cx=\"207.2457\" cy=\"-25.7928\" rx=\"37.3834\" ry=\"18\"/>\n",
       "<text text-anchor=\"middle\" x=\"207.2457\" y=\"-27.3928\" font-family=\"Times,serif\" font-size=\"8.00\" fill=\"#000000\">w2_t2</text>\n",
       "<text text-anchor=\"middle\" x=\"207.2457\" y=\"-19.3928\" font-family=\"Times,serif\" font-size=\"8.00\" fill=\"#000000\">PhononTask</text>\n",
       "</g>\n",
       "<!-- w0_t0&#45;&gt;w2_t2 -->\n",
       "<g id=\"edge8\" class=\"edge\">\n",
       "<title>w0_t0&#45;&gt;w2_t2</title>\n",
       "<path fill=\"none\" stroke=\"#ff0000\" d=\"M228.2951,-156.6584C224.1796,-131.072 216.5888,-83.8792 211.7356,-53.7065\"/>\n",
       "<polygon fill=\"#ff0000\" stroke=\"#ff0000\" points=\"215.187,-53.1245 210.1433,-43.8072 208.2759,-54.2362 215.187,-53.1245\"/>\n",
       "<text text-anchor=\"middle\" x=\"235.5705\" y=\"-107.9825\" font-family=\"Times,serif\" font-size=\"14.00\" fill=\"#000000\">WFK</text>\n",
       "</g>\n",
       "<!-- w2_t3 -->\n",
       "<g id=\"node10\" class=\"node\">\n",
       "<title>w2_t3</title>\n",
       "<ellipse fill=\"#0096fa\" stroke=\"#0096fa\" cx=\"220.3555\" cy=\"-75.8319\" rx=\"37.3834\" ry=\"18\"/>\n",
       "<text text-anchor=\"middle\" x=\"220.3555\" y=\"-77.4319\" font-family=\"Times,serif\" font-size=\"8.00\" fill=\"#000000\">w2_t3</text>\n",
       "<text text-anchor=\"middle\" x=\"220.3555\" y=\"-69.4319\" font-family=\"Times,serif\" font-size=\"8.00\" fill=\"#000000\">PhononTask</text>\n",
       "</g>\n",
       "<!-- w0_t0&#45;&gt;w2_t3 -->\n",
       "<g id=\"edge9\" class=\"edge\">\n",
       "<title>w0_t0&#45;&gt;w2_t3</title>\n",
       "<path fill=\"none\" stroke=\"#ff0000\" d=\"M229.1966,-156.4919C227.5941,-141.8718 225.3108,-121.041 223.4661,-104.2109\"/>\n",
       "<polygon fill=\"#ff0000\" stroke=\"#ff0000\" points=\"226.8975,-103.3934 222.3287,-93.8343 219.9392,-104.1562 226.8975,-103.3934\"/>\n",
       "<text text-anchor=\"middle\" x=\"210.7762\" y=\"-133.1514\" font-family=\"Times,serif\" font-size=\"14.00\" fill=\"#000000\">WFK</text>\n",
       "</g>\n",
       "<!-- w3_t0 -->\n",
       "<g id=\"node11\" class=\"node\">\n",
       "<title>w3_t0</title>\n",
       "<ellipse fill=\"#0096fa\" stroke=\"#0096fa\" cx=\"134.4067\" cy=\"-277.762\" rx=\"37.3834\" ry=\"18\"/>\n",
       "<text text-anchor=\"middle\" x=\"134.4067\" y=\"-279.362\" font-family=\"Times,serif\" font-size=\"8.00\" fill=\"#000000\">w3_t0</text>\n",
       "<text text-anchor=\"middle\" x=\"134.4067\" y=\"-271.362\" font-family=\"Times,serif\" font-size=\"8.00\" fill=\"#000000\">PhononTask</text>\n",
       "</g>\n",
       "<!-- w0_t0&#45;&gt;w3_t0 -->\n",
       "<g id=\"edge10\" class=\"edge\">\n",
       "<title>w0_t0&#45;&gt;w3_t0</title>\n",
       "<path fill=\"none\" stroke=\"#ff0000\" d=\"M216.4843,-190.2758C200.6131,-207.1929 175.1422,-234.3422 156.7817,-253.9126\"/>\n",
       "<polygon fill=\"#ff0000\" stroke=\"#ff0000\" points=\"154.1745,-251.5762 149.885,-261.2638 159.2796,-256.3656 154.1745,-251.5762\"/>\n",
       "<text text-anchor=\"middle\" x=\"171.0778\" y=\"-224.8942\" font-family=\"Times,serif\" font-size=\"14.00\" fill=\"#000000\">WFK</text>\n",
       "</g>\n",
       "<!-- w3_t1 -->\n",
       "<g id=\"node12\" class=\"node\">\n",
       "<title>w3_t1</title>\n",
       "<ellipse fill=\"#0096fa\" stroke=\"#0096fa\" cx=\"44.9849\" cy=\"-238.9355\" rx=\"37.3834\" ry=\"18\"/>\n",
       "<text text-anchor=\"middle\" x=\"44.9849\" y=\"-240.5355\" font-family=\"Times,serif\" font-size=\"8.00\" fill=\"#000000\">w3_t1</text>\n",
       "<text text-anchor=\"middle\" x=\"44.9849\" y=\"-232.5355\" font-family=\"Times,serif\" font-size=\"8.00\" fill=\"#000000\">PhononTask</text>\n",
       "</g>\n",
       "<!-- w0_t0&#45;&gt;w3_t1 -->\n",
       "<g id=\"edge11\" class=\"edge\">\n",
       "<title>w0_t0&#45;&gt;w3_t1</title>\n",
       "<path fill=\"none\" stroke=\"#ff0000\" d=\"M206.4568,-183.1512C175.3999,-193.8805 121.7189,-212.4259 84.8357,-225.168\"/>\n",
       "<polygon fill=\"#ff0000\" stroke=\"#ff0000\" points=\"83.6874,-221.8617 75.3784,-228.4353 85.9732,-228.478 83.6874,-221.8617\"/>\n",
       "<text text-anchor=\"middle\" x=\"130.0911\" y=\"-206.9596\" font-family=\"Times,serif\" font-size=\"14.00\" fill=\"#000000\">WFK</text>\n",
       "</g>\n",
       "<!-- w1_t0&#45;&gt;w1_t3 -->\n",
       "<g id=\"edge12\" class=\"edge\">\n",
       "<title>w1_t0&#45;&gt;w1_t3</title>\n",
       "<path fill=\"none\" stroke=\"#00cccc\" d=\"M374.538,-75.0981C365.8658,-84.7914 354.6773,-97.2971 345.0272,-108.0833\"/>\n",
       "<polygon fill=\"#00cccc\" stroke=\"#00cccc\" points=\"342.3895,-105.7823 338.3303,-115.5687 347.6064,-110.4497 342.3895,-105.7823\"/>\n",
       "<text text-anchor=\"middle\" x=\"374.9481\" y=\"-94.3907\" font-family=\"Times,serif\" font-size=\"14.00\" fill=\"#000000\">DDK</text>\n",
       "</g>\n",
       "<!-- w1_t0&#45;&gt;w1_t4 -->\n",
       "<g id=\"edge13\" class=\"edge\">\n",
       "<title>w1_t0&#45;&gt;w1_t4</title>\n",
       "<path fill=\"none\" stroke=\"#00cccc\" d=\"M391.2151,-77.0293C393.0954,-92.1652 395.813,-114.0415 397.9858,-131.5317\"/>\n",
       "<polygon fill=\"#00cccc\" stroke=\"#00cccc\" points=\"394.5497,-132.2633 399.2559,-141.7555 401.4963,-131.4003 394.5497,-132.2633\"/>\n",
       "<text text-anchor=\"middle\" x=\"379.4349\" y=\"-107.0805\" font-family=\"Times,serif\" font-size=\"14.00\" fill=\"#000000\">DDK</text>\n",
       "</g>\n",
       "<!-- w1_t1&#45;&gt;w1_t3 -->\n",
       "<g id=\"edge14\" class=\"edge\">\n",
       "<title>w1_t1&#45;&gt;w1_t3</title>\n",
       "<path fill=\"none\" stroke=\"#00cccc\" d=\"M320.3504,-104.7489C320.3626,-104.8404 320.3748,-104.9321 320.387,-105.0238\"/>\n",
       "<polygon fill=\"#00cccc\" stroke=\"#00cccc\" points=\"316.7449,-104.191 321.5358,-113.6408 323.6835,-103.2659 316.7449,-104.191\"/>\n",
       "<text text-anchor=\"middle\" x=\"335.5342\" y=\"-107.6864\" font-family=\"Times,serif\" font-size=\"14.00\" fill=\"#000000\">DDK</text>\n",
       "</g>\n",
       "<!-- w1_t1&#45;&gt;w1_t4 -->\n",
       "<g id=\"edge15\" class=\"edge\">\n",
       "<title>w1_t1&#45;&gt;w1_t4</title>\n",
       "<path fill=\"none\" stroke=\"#00cccc\" d=\"M335.2657,-101.9185C347.2229,-112.4009 363.3075,-126.5016 376.6344,-138.1848\"/>\n",
       "<polygon fill=\"#00cccc\" stroke=\"#00cccc\" points=\"374.6875,-141.1325 384.5144,-145.0928 379.302,-135.8688 374.6875,-141.1325\"/>\n",
       "<text text-anchor=\"middle\" x=\"371.1156\" y=\"-122.8516\" font-family=\"Times,serif\" font-size=\"14.00\" fill=\"#000000\">DDK</text>\n",
       "</g>\n",
       "<!-- w1_t2&#45;&gt;w1_t3 -->\n",
       "<g id=\"edge16\" class=\"edge\">\n",
       "<title>w1_t2&#45;&gt;w1_t3</title>\n",
       "<path fill=\"none\" stroke=\"#00cccc\" d=\"M409.5924,-111.5488C395.017,-114.9703 377.0232,-119.1942 361.2959,-122.8861\"/>\n",
       "<polygon fill=\"#00cccc\" stroke=\"#00cccc\" points=\"360.2824,-119.5288 351.3469,-125.2216 361.8822,-126.3436 360.2824,-119.5288\"/>\n",
       "<text text-anchor=\"middle\" x=\"400.6097\" y=\"-120.0175\" font-family=\"Times,serif\" font-size=\"14.00\" fill=\"#000000\">DDK</text>\n",
       "</g>\n",
       "<!-- w1_t2&#45;&gt;w1_t4 -->\n",
       "<g id=\"edge17\" class=\"edge\">\n",
       "<title>w1_t2&#45;&gt;w1_t4</title>\n",
       "<path fill=\"none\" stroke=\"#00cccc\" d=\"M426.6615,-121.7645C423.9952,-125.8202 421.0874,-130.2433 418.2263,-134.5954\"/>\n",
       "<polygon fill=\"#00cccc\" stroke=\"#00cccc\" points=\"415.0803,-133.0095 412.5115,-143.2882 420.9295,-136.8549 415.0803,-133.0095\"/>\n",
       "<text text-anchor=\"middle\" x=\"437.6094\" y=\"-130.9799\" font-family=\"Times,serif\" font-size=\"14.00\" fill=\"#000000\">DDK</text>\n",
       "</g>\n",
       "</g>\n",
       "</svg>\n"
      ],
      "text/plain": [
       "<graphviz.dot.Digraph at 0x11b322b38>"
      ]
     },
     "execution_count": 27,
     "metadata": {},
     "output_type": "execute_result"
    }
   ],
   "source": [
    "flow_phbands = build_flow_alas_phonons()\n",
    "flow_phbands.get_graphviz()"
   ]
  },
  {
   "cell_type": "markdown",
   "metadata": {
    "slideshow": {
     "slide_type": "slide"
    }
   },
   "source": [
    "## Future developments\n",
    "\n",
    "* Add support for more netcdf files\n",
    "* More post-processing tools for MD calculations\n",
    "* More converters and interfaces for third-party applications\n",
    "* Integrate AbiPy with JupyterLab to create a flexible graphical enviroment for Abinit exposing (part) \n",
    "  of the python API \n",
    "* Explore web-based technologies for data analysis and visualization based on plotly and dask. \n",
    "  Goal: Toolkit to build web apps to disseminate scientific results. \n",
    "\n",
    "<!--\n",
    "## Lessons learned\n",
    "\n",
    "* Metadata is as important as data. \n",
    "* That's the reason why I use netcdf and why the AbiPy API is easy-to-use\n",
    "-->"
   ]
  }
 ],
 "metadata": {
  "celltoolbar": "Slideshow",
  "kernelspec": {
   "display_name": "Python 3",
   "language": "python",
   "name": "python3"
  },
  "language_info": {
   "codemirror_mode": {
    "name": "ipython",
    "version": 3
   },
   "file_extension": ".py",
   "mimetype": "text/x-python",
   "name": "python",
   "nbconvert_exporter": "python",
   "pygments_lexer": "ipython3",
   "version": "3.6.8"
  },
  "latex_envs": {
   "bibliofile": "biblio.bib",
   "cite_by": "apalike",
   "current_citInitial": 1,
   "eqLabelWithNumbers": true,
   "eqNumInitial": 0
  }
 },
 "nbformat": 4,
 "nbformat_minor": 2
}
